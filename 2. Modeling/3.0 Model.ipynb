{
 "cells": [
  {
   "cell_type": "markdown",
   "metadata": {},
   "source": [
    "Let's create a model that predicts the result of a running match based on the variables we've already selected."
   ]
  },
  {
   "cell_type": "code",
   "execution_count": 1,
   "metadata": {},
   "outputs": [
    {
     "name": "stdout",
     "output_type": "stream",
     "text": [
      "Populating the interactive namespace from numpy and matplotlib\n"
     ]
    }
   ],
   "source": [
    "import pandas as pd\n",
    "import numpy as np\n",
    "import matplotlib.pyplot as plt\n",
    "%matplotlib inline\n",
    "%pylab inline\n",
    "\n",
    "import gc\n",
    "\n",
    "pd.set_option('display.max_columns', 2000)\n",
    "pd.set_option('display.max_rows', 2000)"
   ]
  },
  {
   "cell_type": "code",
   "execution_count": null,
   "metadata": {},
   "outputs": [],
   "source": [
    "DBS_PATH = \"../Bases/\""
   ]
  },
  {
   "cell_type": "markdown",
   "metadata": {},
   "source": [
    "Let's import the train data and test data"
   ]
  },
  {
   "cell_type": "code",
   "execution_count": null,
   "metadata": {},
   "outputs": [],
   "source": [
    "train = pd.read_csv(DBS_PATH + \"processed_train_games.csv\")\n",
    "test = pd.read_csv(DBS_PATH + \"processed_test_games.csv\")"
   ]
  },
  {
   "cell_type": "markdown",
   "metadata": {},
   "source": [
    "There's some extra preprocessing for modeling:\n",
    "* We should train our model with the intermediate moves of the match, as we're going to test it with ongoing matches\n",
    "* As we're playing the match, there are some fields that are unknown during the match\n",
    "    - a\n",
    "    - b\n",
    "\n",
    "_Interesting question:_ Would it be better to do the variable selection with the data in intermediate moves as well? (I think not, as when selecting variables we're really interested in finding the variables that are useful for winning, and the move information is present in each feature. For training, we'll be in an intermediate state, that's why we need preprocessing)"
   ]
  },
  {
   "cell_type": "markdown",
   "metadata": {},
   "source": [
    "## Evaluation"
   ]
  },
  {
   "cell_type": "markdown",
   "metadata": {},
   "source": [
    "* Match result over time\n",
    "    * What are the decisions our model does during a single match?\n",
    "    * It does better at the beginning or at the end? Is there a threshold move which is decisive for our algorithm to determine the result?\n",
    "    \n",
    "* Result at the end\n",
    "    * How well does our model do at the end of the games? (ROC, Precision, Recall, F1)"
   ]
  }
 ],
 "metadata": {
  "kernelspec": {
   "display_name": "Python 3",
   "language": "python",
   "name": "python3"
  },
  "language_info": {
   "codemirror_mode": {
    "name": "ipython",
    "version": 3
   },
   "file_extension": ".py",
   "mimetype": "text/x-python",
   "name": "python",
   "nbconvert_exporter": "python",
   "pygments_lexer": "ipython3",
   "version": "3.7.4"
  }
 },
 "nbformat": 4,
 "nbformat_minor": 4
}
