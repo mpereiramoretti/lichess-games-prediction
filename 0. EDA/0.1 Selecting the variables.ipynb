{
 "cells": [
  {
   "cell_type": "code",
   "execution_count": 19,
   "metadata": {},
   "outputs": [
    {
     "name": "stdout",
     "output_type": "stream",
     "text": [
      "Populating the interactive namespace from numpy and matplotlib\n"
     ]
    }
   ],
   "source": [
    "import pandas as pd\n",
    "import numpy as np\n",
    "import matplotlib.pyplot as plt\n",
    "%matplotlib inline\n",
    "%pylab inline\n",
    "\n",
    "import gc\n",
    "\n",
    "pd.set_option('display.max_columns', 200)"
   ]
  },
  {
   "cell_type": "code",
   "execution_count": 3,
   "metadata": {},
   "outputs": [],
   "source": [
    "BASE_PATH = \"../Bases/\""
   ]
  },
  {
   "cell_type": "code",
   "execution_count": 4,
   "metadata": {},
   "outputs": [],
   "source": [
    "data = pd.read_csv(BASE_PATH + 'games.csv', delimiter=',')"
   ]
  },
  {
   "cell_type": "code",
   "execution_count": 5,
   "metadata": {},
   "outputs": [
    {
     "data": {
      "text/plain": [
       "(20058, 16)"
      ]
     },
     "execution_count": 5,
     "metadata": {},
     "output_type": "execute_result"
    }
   ],
   "source": [
    "data.shape"
   ]
  },
  {
   "cell_type": "code",
   "execution_count": 7,
   "metadata": {},
   "outputs": [
    {
     "data": {
      "text/html": [
       "<div>\n",
       "<style scoped>\n",
       "    .dataframe tbody tr th:only-of-type {\n",
       "        vertical-align: middle;\n",
       "    }\n",
       "\n",
       "    .dataframe tbody tr th {\n",
       "        vertical-align: top;\n",
       "    }\n",
       "\n",
       "    .dataframe thead th {\n",
       "        text-align: right;\n",
       "    }\n",
       "</style>\n",
       "<table border=\"1\" class=\"dataframe\">\n",
       "  <thead>\n",
       "    <tr style=\"text-align: right;\">\n",
       "      <th></th>\n",
       "      <th>id</th>\n",
       "      <th>rated</th>\n",
       "      <th>created_at</th>\n",
       "      <th>last_move_at</th>\n",
       "      <th>turns</th>\n",
       "      <th>victory_status</th>\n",
       "      <th>winner</th>\n",
       "      <th>increment_code</th>\n",
       "      <th>white_id</th>\n",
       "      <th>white_rating</th>\n",
       "      <th>black_id</th>\n",
       "      <th>black_rating</th>\n",
       "      <th>moves</th>\n",
       "      <th>opening_eco</th>\n",
       "      <th>opening_name</th>\n",
       "      <th>opening_ply</th>\n",
       "    </tr>\n",
       "  </thead>\n",
       "  <tbody>\n",
       "    <tr>\n",
       "      <th>0</th>\n",
       "      <td>TZJHLljE</td>\n",
       "      <td>False</td>\n",
       "      <td>1.504210e+12</td>\n",
       "      <td>1.504210e+12</td>\n",
       "      <td>13</td>\n",
       "      <td>outoftime</td>\n",
       "      <td>white</td>\n",
       "      <td>15+2</td>\n",
       "      <td>bourgris</td>\n",
       "      <td>1500</td>\n",
       "      <td>a-00</td>\n",
       "      <td>1191</td>\n",
       "      <td>d4 d5 c4 c6 cxd5 e6 dxe6 fxe6 Nf3 Bb4+ Nc3 Ba5...</td>\n",
       "      <td>D10</td>\n",
       "      <td>Slav Defense: Exchange Variation</td>\n",
       "      <td>5</td>\n",
       "    </tr>\n",
       "    <tr>\n",
       "      <th>1</th>\n",
       "      <td>l1NXvwaE</td>\n",
       "      <td>True</td>\n",
       "      <td>1.504130e+12</td>\n",
       "      <td>1.504130e+12</td>\n",
       "      <td>16</td>\n",
       "      <td>resign</td>\n",
       "      <td>black</td>\n",
       "      <td>5+10</td>\n",
       "      <td>a-00</td>\n",
       "      <td>1322</td>\n",
       "      <td>skinnerua</td>\n",
       "      <td>1261</td>\n",
       "      <td>d4 Nc6 e4 e5 f4 f6 dxe5 fxe5 fxe5 Nxe5 Qd4 Nc6...</td>\n",
       "      <td>B00</td>\n",
       "      <td>Nimzowitsch Defense: Kennedy Variation</td>\n",
       "      <td>4</td>\n",
       "    </tr>\n",
       "    <tr>\n",
       "      <th>2</th>\n",
       "      <td>mIICvQHh</td>\n",
       "      <td>True</td>\n",
       "      <td>1.504130e+12</td>\n",
       "      <td>1.504130e+12</td>\n",
       "      <td>61</td>\n",
       "      <td>mate</td>\n",
       "      <td>white</td>\n",
       "      <td>5+10</td>\n",
       "      <td>ischia</td>\n",
       "      <td>1496</td>\n",
       "      <td>a-00</td>\n",
       "      <td>1500</td>\n",
       "      <td>e4 e5 d3 d6 Be3 c6 Be2 b5 Nd2 a5 a4 c5 axb5 Nc...</td>\n",
       "      <td>C20</td>\n",
       "      <td>King's Pawn Game: Leonardis Variation</td>\n",
       "      <td>3</td>\n",
       "    </tr>\n",
       "  </tbody>\n",
       "</table>\n",
       "</div>"
      ],
      "text/plain": [
       "         id  rated    created_at  last_move_at  turns victory_status winner  \\\n",
       "0  TZJHLljE  False  1.504210e+12  1.504210e+12     13      outoftime  white   \n",
       "1  l1NXvwaE   True  1.504130e+12  1.504130e+12     16         resign  black   \n",
       "2  mIICvQHh   True  1.504130e+12  1.504130e+12     61           mate  white   \n",
       "\n",
       "  increment_code  white_id  white_rating   black_id  black_rating  \\\n",
       "0           15+2  bourgris          1500       a-00          1191   \n",
       "1           5+10      a-00          1322  skinnerua          1261   \n",
       "2           5+10    ischia          1496       a-00          1500   \n",
       "\n",
       "                                               moves opening_eco  \\\n",
       "0  d4 d5 c4 c6 cxd5 e6 dxe6 fxe6 Nf3 Bb4+ Nc3 Ba5...         D10   \n",
       "1  d4 Nc6 e4 e5 f4 f6 dxe5 fxe5 fxe5 Nxe5 Qd4 Nc6...         B00   \n",
       "2  e4 e5 d3 d6 Be3 c6 Be2 b5 Nd2 a5 a4 c5 axb5 Nc...         C20   \n",
       "\n",
       "                             opening_name  opening_ply  \n",
       "0        Slav Defense: Exchange Variation            5  \n",
       "1  Nimzowitsch Defense: Kennedy Variation            4  \n",
       "2   King's Pawn Game: Leonardis Variation            3  "
      ]
     },
     "execution_count": 7,
     "metadata": {},
     "output_type": "execute_result"
    }
   ],
   "source": [
    "data.head(3)"
   ]
  },
  {
   "cell_type": "code",
   "execution_count": 17,
   "metadata": {},
   "outputs": [
    {
     "data": {
      "text/plain": [
       "id                 object\n",
       "rated                bool\n",
       "created_at        float64\n",
       "last_move_at      float64\n",
       "turns               int64\n",
       "victory_status     object\n",
       "winner             object\n",
       "increment_code     object\n",
       "white_id           object\n",
       "white_rating        int64\n",
       "black_id           object\n",
       "black_rating        int64\n",
       "moves              object\n",
       "opening_eco        object\n",
       "opening_name       object\n",
       "opening_ply         int64\n",
       "dtype: object"
      ]
     },
     "execution_count": 17,
     "metadata": {},
     "output_type": "execute_result"
    }
   ],
   "source": [
    "data.dtypes"
   ]
  },
  {
   "cell_type": "code",
   "execution_count": 18,
   "metadata": {},
   "outputs": [],
   "source": [
    "X = data.drop(columns=[\"winner\"])\n",
    "y = data[\"winner\"]"
   ]
  },
  {
   "cell_type": "code",
   "execution_count": 20,
   "metadata": {},
   "outputs": [
    {
     "data": {
      "text/plain": [
       "99"
      ]
     },
     "execution_count": 20,
     "metadata": {},
     "output_type": "execute_result"
    }
   ],
   "source": [
    "del data\n",
    "gc.collect()"
   ]
  },
  {
   "cell_type": "markdown",
   "metadata": {},
   "source": [
    "Opening names"
   ]
  },
  {
   "cell_type": "code",
   "execution_count": 23,
   "metadata": {},
   "outputs": [],
   "source": [
    "opening_names = X[[\"opening_eco\", \"opening_name\"]].drop_duplicates()"
   ]
  },
  {
   "cell_type": "markdown",
   "metadata": {},
   "source": [
    "Save matches ids"
   ]
  },
  {
   "cell_type": "code",
   "execution_count": 25,
   "metadata": {},
   "outputs": [],
   "source": [
    "ids = X[\"id\"].copy()"
   ]
  },
  {
   "cell_type": "markdown",
   "metadata": {},
   "source": [
    "## Feature Engineering"
   ]
  },
  {
   "cell_type": "markdown",
   "metadata": {},
   "source": [
    "Here we:\n",
    "- Do the imputations (not needed here, as we have no null values in the columns)\n",
    "- Create new features based on the dataset we have"
   ]
  },
  {
   "cell_type": "code",
   "execution_count": 135,
   "metadata": {},
   "outputs": [
    {
     "ename": "SyntaxError",
     "evalue": "invalid syntax (<ipython-input-135-d2ac4faa683d>, line 101)",
     "output_type": "error",
     "traceback": [
      "\u001b[1;36m  File \u001b[1;32m\"<ipython-input-135-d2ac4faa683d>\"\u001b[1;36m, line \u001b[1;32m101\u001b[0m\n\u001b[1;33m    - #P_moves{_white_3}\u001b[0m\n\u001b[1;37m                        ^\u001b[0m\n\u001b[1;31mSyntaxError\u001b[0m\u001b[1;31m:\u001b[0m invalid syntax\n"
     ]
    }
   ],
   "source": [
    "class FeatureEngineering:\n",
    "    '''\n",
    "    basic callable methods\n",
    "    '''\n",
    "    def __init__(self):\n",
    "        self.imput_transform = None\n",
    "        self.create_transform = None\n",
    "    \n",
    "    def fit_transform(self, X, y):\n",
    "        # Fit the ColumnTransformers\n",
    "        X = self.drop_useless_features(X)\n",
    "        #X, y = self.imput_nulls(X, y)\n",
    "        \n",
    "        # Transform the features\n",
    "        X, y = self.transform(X, y)\n",
    "        return X, y\n",
    "    \n",
    "    def transform(self, X, y=None):\n",
    "        X = self.create_features(X)\n",
    "        return X, y\n",
    "    \n",
    "    '''\n",
    "    auxiliary methods\n",
    "    '''\n",
    "    def drop_useless_features(X):\n",
    "        cols_to_drop = [\n",
    "            'id',\n",
    "            'white_id',\n",
    "            'black_id',\n",
    "            'opening_name'\n",
    "        ]\n",
    "        return X.drop(columns=cols_to_drop)\n",
    "    \n",
    "    def imput_nulls(X, y):\n",
    "        numerical_ix = X.select_dtypes(include=['int64', 'float64']).columns\n",
    "        categorical_ix = X.select_dtypes(include=['object', 'bool']).columns\n",
    "        \n",
    "        t_imput = [\n",
    "            ('num', SimpleImputer(strategy='median'), numerical_ix),\n",
    "            ('cat', SimpleImputer(strategy='most_frequent'), categorical_ix)\n",
    "        ]\n",
    "        self.imput_transform = ColumnTransformer(transformers=t_imput)\n",
    "        return self.imput_transform.fit_transform(X, y)\n",
    "    \n",
    "    def create_features(X, y):\n",
    "        t_create = [\n",
    "            ('cat', OneHotEncoder(use_cat_names=True), ['victory_status', 'opening_eco']),\n",
    "            #('num', MinMaxScaler(), numerical_ix)\n",
    "        ]\n",
    "        self.create_transform = ColumnTransformer(transformers=t_create)\n",
    "        X, y = self.create_transform.fit_transform(X, y)\n",
    "        \n",
    "        X['created_at'] = pd.to_datetime(X['created_at'], unit='ms')\n",
    "        X['last_move_at'] = pd.to_datetime(X['last_move_at'], unit='ms')\n",
    "        X['duration_in_seconds'] = (X['last_move_at'] - X['created_at']) / 1000\n",
    "        X['increment_code_minutes'] = X['increment_code'].str.split('+').map(lambda time_control: time_control[0], na_action=None).astype(int)\n",
    "        X['increment_code_seconds'] = X['increment_code'].str.split('+').map(lambda time_control: time_control[1], na_action=None).astype(int)\n",
    "        X['rating_difference'] = X['white_rating'] - X['black_rating']\n",
    "        X = self.create_moves_features(period=3, end=15, X)\n",
    "        X.drop(columns=['increment_code'], axis=1, inplace=True)\n",
    "        return X\n",
    "    \n",
    "    def create_moves_features(period, end, X):\n",
    "        pieces = [\"R\", \"N\", \"B\", \"Q\", \"K\"]\n",
    "        board_columns = [\"a\", \"b\", \"c\", \"d\", \"e\", \"f\", \"g\", \"h\"]\n",
    "\n",
    "        moves = match.str.split(\" \").to_list()[0]\n",
    "        moves_by_color = {\n",
    "            \"white\": moves[::2],\n",
    "            \"black\": moves[1::2]\n",
    "        }\n",
    "        \n",
    "        for move_count in range(1, end, period):\n",
    "            moves_by_color_until_move_count = {\n",
    "                \"white\": white_moves[0:move_count],\n",
    "                \"black\": black_moves[0:move_count]\n",
    "            }\n",
    "            \n",
    "            for color in [\"white\", \"black\"]:\n",
    "                X['#P_moves_{}_until_move{}'.format(color, move_count)] =  len([move for move in moves_by_color_until_move_count[color] if move.startswith(tuple(board_columns))])\n",
    "                X['#center_P_moves_{}_until_move{}'.format(color, move)] = len([move for move in moves_by_color_until_move_count[color] if move.startswith(tuple(board_columns[3:5]))]) # 'd', 'e'\n",
    "                X['#R_moves_{}_until_move{}'.format(color, move)] = len([move for move in moves_by_color_until_move_count[color] if move.startswith('R')])\n",
    "                X['#N_moves_{}_until_move{}'.format(color, move)] = len([move for move in moves_by_color_until_move_count[color] if move.startswith('N')])\n",
    "                X['#B_moves_{}_until_move{}'.format(color, move)] = len([move for move in moves_by_color_until_move_count[color] if move.startswith('B')])\n",
    "                X['#Q_moves_{}_until_move{}'.format(color, move)] = len([move for move in moves_by_color_until_move_count[color] if move.startswith('Q')])\n",
    "                X['#K_moves_{}_until_move{}'.format(color, move)] = len([move for move in moves_by_color_until_move_count[color] if (move.startswith('K') | move.startswith('O'))]) # \"O\" => castle\n",
    "                X['castled_kingside_{}_until_move{}'.format(color, move)] = (len([move for move in moves_by_color_until_move_count[color] if move.startswith('O-O')]) == 1)\n",
    "                X['castled_queenside_{}_until_move{}'.format(color, move)] = (len([move for move in moves_by_color_until_move_count[color] if move.startswith('O-O-O')]) == 1)\n",
    "                X['castled_{}_until_move{}'.format(color, move)] = (X['castled_queenside_{}_until_move{}'.format(color, move)] | X['castled_kingside_{}_until_move{}'.format(color, move)])\n",
    "                X['#takes_{}_until_move{}'.format(color, move)] = len([move for move in moves_by_color_until_move_count[color] if 'x' in move])\n",
    "                X['#checks_{}_until_move{}'.format(color, move)] = len([move for move in moves_by_color_until_move_count[color] if '+' in move])\n",
    "                final_moves_columns = pd.Series(moves_by_color_until_move_count[color]).str.split('#').apply(lambda x: x[0]).str.split('+').apply(lambda x: x[0]).apply(lambda x: x[-2]).to_list()\n",
    "                X['#king_sided_moves_{}_until_move{}'.format(color, move)] = len([col for col in final_moves_columns if col in board_columns[4:]]) + (X['castled_kingside_{}_until_move{}'.format(color, move)] == 1).astype(np.int64)\n",
    "                X['#queen_sided_moves_{}_until_move{}'.format(color, move)] = len([col for col in final_moves_columns if col in board_columns[:4]]) + (X['castled_queenside_{}_until_move{}'.format(color, move)] == 1).astype(np.int64)\n",
    "                X['#centered_moves_{}_until_move{}'.format(color, move)] = len([col for col in final_moves_columns if col in board_columns[2:6]])\n",
    "                final_moves_rows = pd.Series(moves_by_color_until_move_count[color]).str.split('#').apply(lambda x: x[0]).str.split('+').apply(lambda x: x[0]).apply(lambda x: x[-1]).astype(np.int64).to_list()\n",
    "                if color == \"white\":\n",
    "                    X['#upper_sided_moves_{}_until_move{}'.format(color, move)] = len([row for row in final_moves_rows if row in range(5,9)])\n",
    "                    X['#down_sided_moves_{}_until_move{}'.format(color, move)] = len([row for row in final_moves_rows if row in range(1,5)]) + (X['castled_{}_until_move{}'.format(color, move)] == 1).astype(np.int64)\n",
    "                else:\n",
    "                    X['#upper_sided_moves_{}_until_move{}'.format(color, move)] = len([row for row in final_moves_rows if row in range(1,5)])\n",
    "                    X['#down_sided_moves_{}_until_move{}'.format(color, move)] = len([row for row in final_moves_rows if row in range(5,9)]) + (X['castled_{}_until_move{}'.format(color, move)] == 1).astype(np.int64)\n",
    "                X['#middle_moves_{}_until_move{}'.format(color, move)] = len([row for row in final_moves_rows if row in range(3,7)]) \n",
    "        return X\n",
    "    \n",
    "'''\n",
    "- #P_moves{_white_3}\n",
    "- #center_P_moves\n",
    "- #R_moves\n",
    "- #N_moves\n",
    "- #B_moves\n",
    "- #Q_moves\n",
    "- #K_moves (castle included)\n",
    "- queenside_castled\n",
    "- kingside_castled\n",
    "- castled\n",
    "- #takes\n",
    "- #checks\n",
    "- #queen_sided_moves (moves between 'a' and 'd' files (included))\n",
    "- #king_sided_moves (moves between 'e' and 'h' files (included))\n",
    "- #centered_moves (moves between 'c' and 'f' files (included)) \n",
    "'''\n",
    "        \n",
    "# When modeling:\n",
    "### in practice, we won't have the fields 'opening_ply', 'last_move_at' and 'turns' completely in a real match. We should have values for these variables in intermediate time of the match\n",
    "### we should drop 'created_at', once we have created 'games_delay_in_sec'\n",
    "### we should drop 'black_rating', once we have created 'rating_difference'\n",
    "### OneHotEncoder should drop_invariant=True\n",
    "### attention: 'victory_status' == 'outoftime' => may be a draw or a victory"
   ]
  },
  {
   "cell_type": "code",
   "execution_count": 134,
   "metadata": {},
   "outputs": [
    {
     "name": "stdout",
     "output_type": "stream",
     "text": [
      "[6, 6]\n"
     ]
    },
    {
     "data": {
      "text/plain": [
       "0"
      ]
     },
     "execution_count": 134,
     "metadata": {},
     "output_type": "execute_result"
    }
   ],
   "source": [
    "x = pd.Series(['Nfxf6+', 'Nf6+']).str.split('#').apply(lambda x: x[0]).str.split('+').apply(lambda x: x[0]).apply(lambda x: x[-1]).astype(np.int64).to_list()\n",
    "print(x)\n",
    "len([col for col in x if col in ['e', 'f', 'g']])"
   ]
  },
  {
   "cell_type": "code",
   "execution_count": 139,
   "metadata": {},
   "outputs": [
    {
     "name": "stdout",
     "output_type": "stream",
     "text": [
      "5\n",
      "6\n",
      "7\n",
      "8\n"
     ]
    }
   ],
   "source": [
    "row = 6\n",
    "for row in range(5,9):\n",
    "    print(row)"
   ]
  },
  {
   "cell_type": "code",
   "execution_count": 138,
   "metadata": {},
   "outputs": [
    {
     "name": "stdout",
     "output_type": "stream",
     "text": [
      "range(5, 9)\n"
     ]
    }
   ],
   "source": [
    "print(range(5,9))"
   ]
  },
  {
   "cell_type": "code",
   "execution_count": 130,
   "metadata": {},
   "outputs": [
    {
     "data": {
      "text/plain": [
       "('c', 'd', 'e', 'f')"
      ]
     },
     "execution_count": 130,
     "metadata": {},
     "output_type": "execute_result"
    }
   ],
   "source": [
    "board_columns = [\"a\", \"b\", \"c\", \"d\", \"e\", \"f\", \"g\", \"h\"]\n",
    "tuple(board_columns[2:6])"
   ]
  },
  {
   "cell_type": "code",
   "execution_count": 90,
   "metadata": {},
   "outputs": [
    {
     "data": {
      "text/plain": [
       "'f'"
      ]
     },
     "execution_count": 90,
     "metadata": {},
     "output_type": "execute_result"
    }
   ],
   "source": [
    "'Nf6+'.split('#')[0].split('+')[0][-2]"
   ]
  },
  {
   "cell_type": "code",
   "execution_count": 31,
   "metadata": {},
   "outputs": [],
   "source": [
    "match = X.sample(1, random_state=42)[\"moves\"]"
   ]
  },
  {
   "cell_type": "code",
   "execution_count": 66,
   "metadata": {},
   "outputs": [],
   "source": [
    "moves = match.str.split(\" \").to_list()[0]\n",
    "white_moves = turns[::2]\n",
    "black_moves = turns[1::2]"
   ]
  },
  {
   "cell_type": "code",
   "execution_count": 75,
   "metadata": {},
   "outputs": [
    {
     "data": {
      "text/plain": [
       "['d4',\n",
       " 'Bf4',\n",
       " 'e3',\n",
       " 'Nc3',\n",
       " 'Bc4',\n",
       " 'dxe5',\n",
       " 'Qxd8+',\n",
       " 'O-O-O+',\n",
       " 'Bg5',\n",
       " 'Nd5+',\n",
       " 'Nxf6',\n",
       " 'Bxf6',\n",
       " 'Bxg8',\n",
       " 'Nf3',\n",
       " 'Bh4',\n",
       " 'a3',\n",
       " 'h3',\n",
       " 'axb4',\n",
       " 'Bg3',\n",
       " 'Rd2',\n",
       " 'Rhd1',\n",
       " 'exf4',\n",
       " 'Bh4',\n",
       " 'Ng5+',\n",
       " 'Ne4+',\n",
       " 'Nxd6',\n",
       " 'Rxd6',\n",
       " 'Rxc6',\n",
       " 'Kxb2',\n",
       " 'Kc3',\n",
       " 'Kb4']"
      ]
     },
     "execution_count": 75,
     "metadata": {},
     "output_type": "execute_result"
    }
   ],
   "source": [
    "white_moves"
   ]
  },
  {
   "cell_type": "code",
   "execution_count": 80,
   "metadata": {},
   "outputs": [
    {
     "data": {
      "text/plain": [
       "True"
      ]
     },
     "execution_count": 80,
     "metadata": {},
     "output_type": "execute_result"
    }
   ],
   "source": [
    "'x' in white_moves[5]"
   ]
  },
  {
   "cell_type": "code",
   "execution_count": 61,
   "metadata": {},
   "outputs": [
    {
     "name": "stdout",
     "output_type": "stream",
     "text": [
      "1\n",
      "4\n",
      "7\n",
      "10\n",
      "13\n"
     ]
    }
   ],
   "source": [
    "for move_count in range(1, 15, 3):\n",
    "    print(move_count)"
   ]
  },
  {
   "cell_type": "code",
   "execution_count": 62,
   "metadata": {},
   "outputs": [
    {
     "name": "stdout",
     "output_type": "stream",
     "text": [
      "white\n",
      "black\n"
     ]
    }
   ],
   "source": [
    "for color in [\"white\", \"black\"]:\n",
    "    print(color)"
   ]
  },
  {
   "cell_type": "code",
   "execution_count": 59,
   "metadata": {},
   "outputs": [
    {
     "name": "stdout",
     "output_type": "stream",
     "text": [
      "['d4', 'Bf4', 'e3']\n",
      "['d4', 'e3']\n"
     ]
    },
    {
     "data": {
      "text/plain": [
       "\"\\npor cor, por periodo\\n- #P_moves{_white_3}\\n- #center_P_moves\\n- #R_moves\\n- #N_moves\\n- #B_moves\\n- #Q_moves\\n- #K_moves (castle included)\\n- queenside_castled\\n- kingside_castled\\n- castled\\n- #takes\\n- #checks\\n- #queen_sided_moves (moves between 'a' and 'd' files (included))\\n- #king_sided_moves (moves between 'e' and 'h' files (included))\\n- #centered_moves (moves between 'c' and 'f' files (included))\\n\\nSuggestions: Change notation to PxC ==> take into account the material\\n\""
      ]
     },
     "execution_count": 59,
     "metadata": {},
     "output_type": "execute_result"
    }
   ],
   "source": [
    "pieces = [\"R\", \"N\", \"B\", \"Q\", \"K\"]\n",
    "columns = [\"a\", \"b\", \"c\", \"d\", \"e\", \"f\", \"g\", \"h\"]\n",
    "\n",
    "moves = match.str.split(\" \").to_list()[0]\n",
    "white_moves = turns[::2]\n",
    "black_moves = turns[1::2]\n",
    "\n",
    "# move 3\n",
    "white_move3 = white_moves[0:3]\n",
    "print(white_move3)\n",
    "P_moves_white_move3 = [move for move in white_move3 if move.startswith(tuple(columns))]\n",
    "qtt_P_moves_white_move3 = len(P_moves_white_move3)\n",
    "\n",
    "'''\n",
    "por cor, por periodo\n",
    "- #P_moves{_white_3}\n",
    "- #center_P_moves\n",
    "- #R_moves\n",
    "- #N_moves\n",
    "- #B_moves\n",
    "- #Q_moves\n",
    "- #K_moves (castle included)\n",
    "- queenside_castled\n",
    "- kingside_castled\n",
    "- castled\n",
    "- #takes\n",
    "- #checks\n",
    "- #queen_sided_moves (moves between 'a' and 'd' files (included))\n",
    "- #king_sided_moves (moves between 'e' and 'h' files (included))\n",
    "- #centered_moves (moves between 'c' and 'f' files (included))\n",
    "\n",
    "Suggestions: Change notation to PxC ==> take into account the material\n",
    "'''"
   ]
  },
  {
   "cell_type": "code",
   "execution_count": null,
   "metadata": {},
   "outputs": [],
   "source": [
    "'''        \n",
    "rated                bool\n",
    "created_at        float64\n",
    "last_move_at      float64\n",
    "turns               int64\n",
    "victory_status     object\n",
    "increment_code     object\n",
    "white_rating        int64\n",
    "black_rating        int64\n",
    "moves              object\n",
    "opening_eco        object\n",
    "opening_ply         int64\n",
    "\n",
    "winner             object\n",
    "'''"
   ]
  },
  {
   "cell_type": "code",
   "execution_count": 14,
   "metadata": {},
   "outputs": [],
   "source": [
    "fe = FeatureEngineering()"
   ]
  },
  {
   "cell_type": "code",
   "execution_count": null,
   "metadata": {},
   "outputs": [],
   "source": []
  }
 ],
 "metadata": {
  "kernelspec": {
   "display_name": "Python 3",
   "language": "python",
   "name": "python3"
  },
  "language_info": {
   "codemirror_mode": {
    "name": "ipython",
    "version": 3
   },
   "file_extension": ".py",
   "mimetype": "text/x-python",
   "name": "python",
   "nbconvert_exporter": "python",
   "pygments_lexer": "ipython3",
   "version": "3.7.4"
  }
 },
 "nbformat": 4,
 "nbformat_minor": 4
}
