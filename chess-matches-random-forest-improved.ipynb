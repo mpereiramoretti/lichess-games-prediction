{
 "cells": [
  {
   "cell_type": "markdown",
   "metadata": {},
   "source": [
    "# The problem"
   ]
  },
  {
   "cell_type": "markdown",
   "metadata": {},
   "source": [
    "Based on this dataset with 20,000 chess matches collected from Lichess (games taken of users from the top ~100 teams on _lichess.org_ from 2013 to 2017) the objective is to create a model that predicts the result of a match, given the parameters of the game, before it starts (available at https://www.kaggle.com/datasnaek/chess)."
   ]
  },
  {
   "cell_type": "code",
   "execution_count": 1,
   "metadata": {},
   "outputs": [
    {
     "name": "stdout",
     "output_type": "stream",
     "text": [
      "Populating the interactive namespace from numpy and matplotlib\n"
     ]
    }
   ],
   "source": [
    "import pandas as pd\n",
    "import numpy as np\n",
    "%matplotlib inline\n",
    "%pylab inline\n",
    "\n",
    "pd.set_option('display.max_columns', 200)"
   ]
  },
  {
   "cell_type": "markdown",
   "metadata": {},
   "source": [
    "Importing the dataset:"
   ]
  },
  {
   "cell_type": "code",
   "execution_count": 2,
   "metadata": {},
   "outputs": [],
   "source": [
    "chess_games = pd.read_csv('games.csv', delimiter=',')"
   ]
  },
  {
   "cell_type": "code",
   "execution_count": 3,
   "metadata": {},
   "outputs": [
    {
     "data": {
      "text/html": [
       "<div>\n",
       "<style scoped>\n",
       "    .dataframe tbody tr th:only-of-type {\n",
       "        vertical-align: middle;\n",
       "    }\n",
       "\n",
       "    .dataframe tbody tr th {\n",
       "        vertical-align: top;\n",
       "    }\n",
       "\n",
       "    .dataframe thead th {\n",
       "        text-align: right;\n",
       "    }\n",
       "</style>\n",
       "<table border=\"1\" class=\"dataframe\">\n",
       "  <thead>\n",
       "    <tr style=\"text-align: right;\">\n",
       "      <th></th>\n",
       "      <th>id</th>\n",
       "      <th>rated</th>\n",
       "      <th>created_at</th>\n",
       "      <th>last_move_at</th>\n",
       "      <th>turns</th>\n",
       "      <th>victory_status</th>\n",
       "      <th>winner</th>\n",
       "      <th>increment_code</th>\n",
       "      <th>white_id</th>\n",
       "      <th>white_rating</th>\n",
       "      <th>black_id</th>\n",
       "      <th>black_rating</th>\n",
       "      <th>moves</th>\n",
       "      <th>opening_eco</th>\n",
       "      <th>opening_name</th>\n",
       "      <th>opening_ply</th>\n",
       "    </tr>\n",
       "  </thead>\n",
       "  <tbody>\n",
       "    <tr>\n",
       "      <td>0</td>\n",
       "      <td>TZJHLljE</td>\n",
       "      <td>False</td>\n",
       "      <td>1.504210e+12</td>\n",
       "      <td>1.504210e+12</td>\n",
       "      <td>13</td>\n",
       "      <td>outoftime</td>\n",
       "      <td>white</td>\n",
       "      <td>15+2</td>\n",
       "      <td>bourgris</td>\n",
       "      <td>1500</td>\n",
       "      <td>a-00</td>\n",
       "      <td>1191</td>\n",
       "      <td>d4 d5 c4 c6 cxd5 e6 dxe6 fxe6 Nf3 Bb4+ Nc3 Ba5...</td>\n",
       "      <td>D10</td>\n",
       "      <td>Slav Defense: Exchange Variation</td>\n",
       "      <td>5</td>\n",
       "    </tr>\n",
       "    <tr>\n",
       "      <td>1</td>\n",
       "      <td>l1NXvwaE</td>\n",
       "      <td>True</td>\n",
       "      <td>1.504130e+12</td>\n",
       "      <td>1.504130e+12</td>\n",
       "      <td>16</td>\n",
       "      <td>resign</td>\n",
       "      <td>black</td>\n",
       "      <td>5+10</td>\n",
       "      <td>a-00</td>\n",
       "      <td>1322</td>\n",
       "      <td>skinnerua</td>\n",
       "      <td>1261</td>\n",
       "      <td>d4 Nc6 e4 e5 f4 f6 dxe5 fxe5 fxe5 Nxe5 Qd4 Nc6...</td>\n",
       "      <td>B00</td>\n",
       "      <td>Nimzowitsch Defense: Kennedy Variation</td>\n",
       "      <td>4</td>\n",
       "    </tr>\n",
       "    <tr>\n",
       "      <td>2</td>\n",
       "      <td>mIICvQHh</td>\n",
       "      <td>True</td>\n",
       "      <td>1.504130e+12</td>\n",
       "      <td>1.504130e+12</td>\n",
       "      <td>61</td>\n",
       "      <td>mate</td>\n",
       "      <td>white</td>\n",
       "      <td>5+10</td>\n",
       "      <td>ischia</td>\n",
       "      <td>1496</td>\n",
       "      <td>a-00</td>\n",
       "      <td>1500</td>\n",
       "      <td>e4 e5 d3 d6 Be3 c6 Be2 b5 Nd2 a5 a4 c5 axb5 Nc...</td>\n",
       "      <td>C20</td>\n",
       "      <td>King's Pawn Game: Leonardis Variation</td>\n",
       "      <td>3</td>\n",
       "    </tr>\n",
       "    <tr>\n",
       "      <td>3</td>\n",
       "      <td>kWKvrqYL</td>\n",
       "      <td>True</td>\n",
       "      <td>1.504110e+12</td>\n",
       "      <td>1.504110e+12</td>\n",
       "      <td>61</td>\n",
       "      <td>mate</td>\n",
       "      <td>white</td>\n",
       "      <td>20+0</td>\n",
       "      <td>daniamurashov</td>\n",
       "      <td>1439</td>\n",
       "      <td>adivanov2009</td>\n",
       "      <td>1454</td>\n",
       "      <td>d4 d5 Nf3 Bf5 Nc3 Nf6 Bf4 Ng4 e3 Nc6 Be2 Qd7 O...</td>\n",
       "      <td>D02</td>\n",
       "      <td>Queen's Pawn Game: Zukertort Variation</td>\n",
       "      <td>3</td>\n",
       "    </tr>\n",
       "    <tr>\n",
       "      <td>4</td>\n",
       "      <td>9tXo1AUZ</td>\n",
       "      <td>True</td>\n",
       "      <td>1.504030e+12</td>\n",
       "      <td>1.504030e+12</td>\n",
       "      <td>95</td>\n",
       "      <td>mate</td>\n",
       "      <td>white</td>\n",
       "      <td>30+3</td>\n",
       "      <td>nik221107</td>\n",
       "      <td>1523</td>\n",
       "      <td>adivanov2009</td>\n",
       "      <td>1469</td>\n",
       "      <td>e4 e5 Nf3 d6 d4 Nc6 d5 Nb4 a3 Na6 Nc3 Be7 b4 N...</td>\n",
       "      <td>C41</td>\n",
       "      <td>Philidor Defense</td>\n",
       "      <td>5</td>\n",
       "    </tr>\n",
       "  </tbody>\n",
       "</table>\n",
       "</div>"
      ],
      "text/plain": [
       "         id  rated    created_at  last_move_at  turns victory_status winner  \\\n",
       "0  TZJHLljE  False  1.504210e+12  1.504210e+12     13      outoftime  white   \n",
       "1  l1NXvwaE   True  1.504130e+12  1.504130e+12     16         resign  black   \n",
       "2  mIICvQHh   True  1.504130e+12  1.504130e+12     61           mate  white   \n",
       "3  kWKvrqYL   True  1.504110e+12  1.504110e+12     61           mate  white   \n",
       "4  9tXo1AUZ   True  1.504030e+12  1.504030e+12     95           mate  white   \n",
       "\n",
       "  increment_code       white_id  white_rating      black_id  black_rating  \\\n",
       "0           15+2       bourgris          1500          a-00          1191   \n",
       "1           5+10           a-00          1322     skinnerua          1261   \n",
       "2           5+10         ischia          1496          a-00          1500   \n",
       "3           20+0  daniamurashov          1439  adivanov2009          1454   \n",
       "4           30+3      nik221107          1523  adivanov2009          1469   \n",
       "\n",
       "                                               moves opening_eco  \\\n",
       "0  d4 d5 c4 c6 cxd5 e6 dxe6 fxe6 Nf3 Bb4+ Nc3 Ba5...         D10   \n",
       "1  d4 Nc6 e4 e5 f4 f6 dxe5 fxe5 fxe5 Nxe5 Qd4 Nc6...         B00   \n",
       "2  e4 e5 d3 d6 Be3 c6 Be2 b5 Nd2 a5 a4 c5 axb5 Nc...         C20   \n",
       "3  d4 d5 Nf3 Bf5 Nc3 Nf6 Bf4 Ng4 e3 Nc6 Be2 Qd7 O...         D02   \n",
       "4  e4 e5 Nf3 d6 d4 Nc6 d5 Nb4 a3 Na6 Nc3 Be7 b4 N...         C41   \n",
       "\n",
       "                             opening_name  opening_ply  \n",
       "0        Slav Defense: Exchange Variation            5  \n",
       "1  Nimzowitsch Defense: Kennedy Variation            4  \n",
       "2   King's Pawn Game: Leonardis Variation            3  \n",
       "3  Queen's Pawn Game: Zukertort Variation            3  \n",
       "4                        Philidor Defense            5  "
      ]
     },
     "execution_count": 3,
     "metadata": {},
     "output_type": "execute_result"
    }
   ],
   "source": [
    "chess_games.head()"
   ]
  },
  {
   "cell_type": "markdown",
   "metadata": {},
   "source": [
    "## Features"
   ]
  },
  {
   "cell_type": "markdown",
   "metadata": {},
   "source": [
    "### Duration of the match"
   ]
  },
  {
   "cell_type": "code",
   "execution_count": 4,
   "metadata": {},
   "outputs": [],
   "source": [
    "games_delay_in_sec = (chess_games['last_move_at'] - chess_games['created_at']) / 1000\n",
    "chess_games['duration_in_seconds'] = games_delay_in_sec.copy()"
   ]
  },
  {
   "cell_type": "markdown",
   "metadata": {},
   "source": [
    "### One-Hot-Encoding of victory status"
   ]
  },
  {
   "cell_type": "code",
   "execution_count": 5,
   "metadata": {},
   "outputs": [],
   "source": [
    "from category_encoders import OneHotEncoder"
   ]
  },
  {
   "cell_type": "code",
   "execution_count": 6,
   "metadata": {},
   "outputs": [],
   "source": [
    "ohe_victory_status = OneHotEncoder(cols=['victory_status'], use_cat_names=True, drop_invariant=True)\n",
    "chess_games = ohe_victory_status.fit_transform(chess_games)"
   ]
  },
  {
   "cell_type": "markdown",
   "metadata": {},
   "source": [
    "### Time control: Minutes and Seconds"
   ]
  },
  {
   "cell_type": "code",
   "execution_count": 7,
   "metadata": {},
   "outputs": [],
   "source": [
    "minutes = chess_games['increment_code'].str.split('+').map(lambda time_control: time_control[0], na_action=None).astype(int)\n",
    "incr_seconds = chess_games['increment_code'].str.split('+').map(lambda time_control: time_control[1], na_action=None).astype(int)\n",
    "\n",
    "chess_games['minutes'] = minutes.copy()\n",
    "chess_games['incr_seconds'] = incr_seconds.copy()"
   ]
  },
  {
   "cell_type": "code",
   "execution_count": 8,
   "metadata": {},
   "outputs": [],
   "source": [
    "chess_games = chess_games.drop(columns=['increment_code'], axis=1)"
   ]
  },
  {
   "cell_type": "markdown",
   "metadata": {},
   "source": [
    "### Date of Creation and Last Move At (as dates)"
   ]
  },
  {
   "cell_type": "code",
   "execution_count": 9,
   "metadata": {},
   "outputs": [],
   "source": [
    "chess_games['created_at'] = pd.to_datetime(chess_games['created_at'], unit='ms')\n",
    "chess_games['last_move_at'] = pd.to_datetime(chess_games['last_move_at'], unit='ms')"
   ]
  },
  {
   "cell_type": "markdown",
   "metadata": {},
   "source": [
    "### Rating difference"
   ]
  },
  {
   "cell_type": "markdown",
   "metadata": {},
   "source": [
    "One other variable that seems to be predictive is the rating difference between the players."
   ]
  },
  {
   "cell_type": "code",
   "execution_count": 10,
   "metadata": {},
   "outputs": [],
   "source": [
    "chess_games['rating_difference'] = chess_games['white_rating'] - chess_games['black_rating']"
   ]
  },
  {
   "cell_type": "code",
   "execution_count": 11,
   "metadata": {},
   "outputs": [
    {
     "data": {
      "text/plain": [
       "7.799880346993718"
      ]
     },
     "execution_count": 11,
     "metadata": {},
     "output_type": "execute_result"
    }
   ],
   "source": [
    "chess_games['rating_difference'].mean()"
   ]
  },
  {
   "cell_type": "markdown",
   "metadata": {},
   "source": [
    "### Castle"
   ]
  },
  {
   "cell_type": "code",
   "execution_count": 12,
   "metadata": {},
   "outputs": [],
   "source": [
    "def get_white_moves(moves):\n",
    "    return moves[::2]\n",
    "\n",
    "def get_black_moves(moves):\n",
    "    return moves[1::2]\n",
    "\n",
    "def castled(moves):\n",
    "    return ('O-O' in moves) | ('O-O-O' in moves)\n",
    "\n",
    "all_moves = chess_games['moves'].str.split()\n",
    "white_moves = all_moves.apply(get_white_moves)\n",
    "black_moves = all_moves.apply(get_black_moves)\n",
    "chess_games['white_castled'] = white_moves.apply(castled).astype(int)\n",
    "chess_games['black_castled'] = black_moves.apply(castled).astype(int)"
   ]
  },
  {
   "cell_type": "markdown",
   "metadata": {},
   "source": [
    "### Number of takes"
   ]
  },
  {
   "cell_type": "code",
   "execution_count": 13,
   "metadata": {},
   "outputs": [],
   "source": [
    "def count_takes(moves):\n",
    "    moves = pd.Series(moves)\n",
    "    return moves.map(lambda mv: 1 if 'x' in mv else 0).sum()\n",
    "\n",
    "chess_games['white_takes_count'] = white_moves.apply(count_takes)\n",
    "chess_games['black_takes_count'] = black_moves.apply(count_takes)"
   ]
  },
  {
   "cell_type": "code",
   "execution_count": 14,
   "metadata": {},
   "outputs": [
    {
     "data": {
      "text/html": [
       "<div>\n",
       "<style scoped>\n",
       "    .dataframe tbody tr th:only-of-type {\n",
       "        vertical-align: middle;\n",
       "    }\n",
       "\n",
       "    .dataframe tbody tr th {\n",
       "        vertical-align: top;\n",
       "    }\n",
       "\n",
       "    .dataframe thead th {\n",
       "        text-align: right;\n",
       "    }\n",
       "</style>\n",
       "<table border=\"1\" class=\"dataframe\">\n",
       "  <thead>\n",
       "    <tr style=\"text-align: right;\">\n",
       "      <th></th>\n",
       "      <th>id</th>\n",
       "      <th>rated</th>\n",
       "      <th>created_at</th>\n",
       "      <th>last_move_at</th>\n",
       "      <th>turns</th>\n",
       "      <th>victory_status_outoftime</th>\n",
       "      <th>victory_status_resign</th>\n",
       "      <th>victory_status_mate</th>\n",
       "      <th>victory_status_draw</th>\n",
       "      <th>winner</th>\n",
       "      <th>white_id</th>\n",
       "      <th>white_rating</th>\n",
       "      <th>black_id</th>\n",
       "      <th>black_rating</th>\n",
       "      <th>moves</th>\n",
       "      <th>opening_eco</th>\n",
       "      <th>opening_name</th>\n",
       "      <th>opening_ply</th>\n",
       "      <th>duration_in_seconds</th>\n",
       "      <th>minutes</th>\n",
       "      <th>incr_seconds</th>\n",
       "      <th>rating_difference</th>\n",
       "      <th>white_castled</th>\n",
       "      <th>black_castled</th>\n",
       "      <th>white_takes_count</th>\n",
       "      <th>black_takes_count</th>\n",
       "    </tr>\n",
       "  </thead>\n",
       "  <tbody>\n",
       "    <tr>\n",
       "      <td>0</td>\n",
       "      <td>TZJHLljE</td>\n",
       "      <td>False</td>\n",
       "      <td>2017-08-31 20:06:40</td>\n",
       "      <td>2017-08-31 20:06:40</td>\n",
       "      <td>13</td>\n",
       "      <td>1</td>\n",
       "      <td>0</td>\n",
       "      <td>0</td>\n",
       "      <td>0</td>\n",
       "      <td>white</td>\n",
       "      <td>bourgris</td>\n",
       "      <td>1500</td>\n",
       "      <td>a-00</td>\n",
       "      <td>1191</td>\n",
       "      <td>d4 d5 c4 c6 cxd5 e6 dxe6 fxe6 Nf3 Bb4+ Nc3 Ba5...</td>\n",
       "      <td>D10</td>\n",
       "      <td>Slav Defense: Exchange Variation</td>\n",
       "      <td>5</td>\n",
       "      <td>0.0</td>\n",
       "      <td>15</td>\n",
       "      <td>2</td>\n",
       "      <td>309</td>\n",
       "      <td>0</td>\n",
       "      <td>0</td>\n",
       "      <td>2</td>\n",
       "      <td>1</td>\n",
       "    </tr>\n",
       "    <tr>\n",
       "      <td>1</td>\n",
       "      <td>l1NXvwaE</td>\n",
       "      <td>True</td>\n",
       "      <td>2017-08-30 21:53:20</td>\n",
       "      <td>2017-08-30 21:53:20</td>\n",
       "      <td>16</td>\n",
       "      <td>0</td>\n",
       "      <td>1</td>\n",
       "      <td>0</td>\n",
       "      <td>0</td>\n",
       "      <td>black</td>\n",
       "      <td>a-00</td>\n",
       "      <td>1322</td>\n",
       "      <td>skinnerua</td>\n",
       "      <td>1261</td>\n",
       "      <td>d4 Nc6 e4 e5 f4 f6 dxe5 fxe5 fxe5 Nxe5 Qd4 Nc6...</td>\n",
       "      <td>B00</td>\n",
       "      <td>Nimzowitsch Defense: Kennedy Variation</td>\n",
       "      <td>4</td>\n",
       "      <td>0.0</td>\n",
       "      <td>5</td>\n",
       "      <td>10</td>\n",
       "      <td>61</td>\n",
       "      <td>0</td>\n",
       "      <td>0</td>\n",
       "      <td>2</td>\n",
       "      <td>3</td>\n",
       "    </tr>\n",
       "    <tr>\n",
       "      <td>2</td>\n",
       "      <td>mIICvQHh</td>\n",
       "      <td>True</td>\n",
       "      <td>2017-08-30 21:53:20</td>\n",
       "      <td>2017-08-30 21:53:20</td>\n",
       "      <td>61</td>\n",
       "      <td>0</td>\n",
       "      <td>0</td>\n",
       "      <td>1</td>\n",
       "      <td>0</td>\n",
       "      <td>white</td>\n",
       "      <td>ischia</td>\n",
       "      <td>1496</td>\n",
       "      <td>a-00</td>\n",
       "      <td>1500</td>\n",
       "      <td>e4 e5 d3 d6 Be3 c6 Be2 b5 Nd2 a5 a4 c5 axb5 Nc...</td>\n",
       "      <td>C20</td>\n",
       "      <td>King's Pawn Game: Leonardis Variation</td>\n",
       "      <td>3</td>\n",
       "      <td>0.0</td>\n",
       "      <td>5</td>\n",
       "      <td>10</td>\n",
       "      <td>-4</td>\n",
       "      <td>0</td>\n",
       "      <td>0</td>\n",
       "      <td>14</td>\n",
       "      <td>3</td>\n",
       "    </tr>\n",
       "    <tr>\n",
       "      <td>3</td>\n",
       "      <td>kWKvrqYL</td>\n",
       "      <td>True</td>\n",
       "      <td>2017-08-30 16:20:00</td>\n",
       "      <td>2017-08-30 16:20:00</td>\n",
       "      <td>61</td>\n",
       "      <td>0</td>\n",
       "      <td>0</td>\n",
       "      <td>1</td>\n",
       "      <td>0</td>\n",
       "      <td>white</td>\n",
       "      <td>daniamurashov</td>\n",
       "      <td>1439</td>\n",
       "      <td>adivanov2009</td>\n",
       "      <td>1454</td>\n",
       "      <td>d4 d5 Nf3 Bf5 Nc3 Nf6 Bf4 Ng4 e3 Nc6 Be2 Qd7 O...</td>\n",
       "      <td>D02</td>\n",
       "      <td>Queen's Pawn Game: Zukertort Variation</td>\n",
       "      <td>3</td>\n",
       "      <td>0.0</td>\n",
       "      <td>20</td>\n",
       "      <td>0</td>\n",
       "      <td>-15</td>\n",
       "      <td>1</td>\n",
       "      <td>1</td>\n",
       "      <td>10</td>\n",
       "      <td>4</td>\n",
       "    </tr>\n",
       "    <tr>\n",
       "      <td>4</td>\n",
       "      <td>9tXo1AUZ</td>\n",
       "      <td>True</td>\n",
       "      <td>2017-08-29 18:06:40</td>\n",
       "      <td>2017-08-29 18:06:40</td>\n",
       "      <td>95</td>\n",
       "      <td>0</td>\n",
       "      <td>0</td>\n",
       "      <td>1</td>\n",
       "      <td>0</td>\n",
       "      <td>white</td>\n",
       "      <td>nik221107</td>\n",
       "      <td>1523</td>\n",
       "      <td>adivanov2009</td>\n",
       "      <td>1469</td>\n",
       "      <td>e4 e5 Nf3 d6 d4 Nc6 d5 Nb4 a3 Na6 Nc3 Be7 b4 N...</td>\n",
       "      <td>C41</td>\n",
       "      <td>Philidor Defense</td>\n",
       "      <td>5</td>\n",
       "      <td>0.0</td>\n",
       "      <td>30</td>\n",
       "      <td>3</td>\n",
       "      <td>54</td>\n",
       "      <td>1</td>\n",
       "      <td>1</td>\n",
       "      <td>14</td>\n",
       "      <td>10</td>\n",
       "    </tr>\n",
       "  </tbody>\n",
       "</table>\n",
       "</div>"
      ],
      "text/plain": [
       "         id  rated          created_at        last_move_at  turns  \\\n",
       "0  TZJHLljE  False 2017-08-31 20:06:40 2017-08-31 20:06:40     13   \n",
       "1  l1NXvwaE   True 2017-08-30 21:53:20 2017-08-30 21:53:20     16   \n",
       "2  mIICvQHh   True 2017-08-30 21:53:20 2017-08-30 21:53:20     61   \n",
       "3  kWKvrqYL   True 2017-08-30 16:20:00 2017-08-30 16:20:00     61   \n",
       "4  9tXo1AUZ   True 2017-08-29 18:06:40 2017-08-29 18:06:40     95   \n",
       "\n",
       "   victory_status_outoftime  victory_status_resign  victory_status_mate  \\\n",
       "0                         1                      0                    0   \n",
       "1                         0                      1                    0   \n",
       "2                         0                      0                    1   \n",
       "3                         0                      0                    1   \n",
       "4                         0                      0                    1   \n",
       "\n",
       "   victory_status_draw winner       white_id  white_rating      black_id  \\\n",
       "0                    0  white       bourgris          1500          a-00   \n",
       "1                    0  black           a-00          1322     skinnerua   \n",
       "2                    0  white         ischia          1496          a-00   \n",
       "3                    0  white  daniamurashov          1439  adivanov2009   \n",
       "4                    0  white      nik221107          1523  adivanov2009   \n",
       "\n",
       "   black_rating                                              moves  \\\n",
       "0          1191  d4 d5 c4 c6 cxd5 e6 dxe6 fxe6 Nf3 Bb4+ Nc3 Ba5...   \n",
       "1          1261  d4 Nc6 e4 e5 f4 f6 dxe5 fxe5 fxe5 Nxe5 Qd4 Nc6...   \n",
       "2          1500  e4 e5 d3 d6 Be3 c6 Be2 b5 Nd2 a5 a4 c5 axb5 Nc...   \n",
       "3          1454  d4 d5 Nf3 Bf5 Nc3 Nf6 Bf4 Ng4 e3 Nc6 Be2 Qd7 O...   \n",
       "4          1469  e4 e5 Nf3 d6 d4 Nc6 d5 Nb4 a3 Na6 Nc3 Be7 b4 N...   \n",
       "\n",
       "  opening_eco                            opening_name  opening_ply  \\\n",
       "0         D10        Slav Defense: Exchange Variation            5   \n",
       "1         B00  Nimzowitsch Defense: Kennedy Variation            4   \n",
       "2         C20   King's Pawn Game: Leonardis Variation            3   \n",
       "3         D02  Queen's Pawn Game: Zukertort Variation            3   \n",
       "4         C41                        Philidor Defense            5   \n",
       "\n",
       "   duration_in_seconds  minutes  incr_seconds  rating_difference  \\\n",
       "0                  0.0       15             2                309   \n",
       "1                  0.0        5            10                 61   \n",
       "2                  0.0        5            10                 -4   \n",
       "3                  0.0       20             0                -15   \n",
       "4                  0.0       30             3                 54   \n",
       "\n",
       "   white_castled  black_castled  white_takes_count  black_takes_count  \n",
       "0              0              0                  2                  1  \n",
       "1              0              0                  2                  3  \n",
       "2              0              0                 14                  3  \n",
       "3              1              1                 10                  4  \n",
       "4              1              1                 14                 10  "
      ]
     },
     "execution_count": 14,
     "metadata": {},
     "output_type": "execute_result"
    }
   ],
   "source": [
    "chess_games.head()"
   ]
  },
  {
   "cell_type": "markdown",
   "metadata": {},
   "source": [
    "## Clean Data"
   ]
  },
  {
   "cell_type": "code",
   "execution_count": 15,
   "metadata": {},
   "outputs": [
    {
     "data": {
      "text/plain": [
       "6.0232999302024135"
      ]
     },
     "execution_count": 15,
     "metadata": {},
     "output_type": "execute_result"
    }
   ],
   "source": [
    "max_minutes = chess_games['minutes'].max()\n",
    "max_incr_seconds = chess_games['incr_seconds'].max()\n",
    "mean_moves = chess_games['turns'].mean()\n",
    "\n",
    "duration_threshold_in_hours = (max_minutes + max_incr_seconds / 60 * mean_moves) / 60\n",
    "duration_threshold_in_hours"
   ]
  },
  {
   "cell_type": "code",
   "execution_count": 16,
   "metadata": {},
   "outputs": [],
   "source": [
    "chess_games = chess_games[chess_games['turns'] > 3]\n",
    "chess_games_invalid_duration = chess_games[chess_games['duration_in_seconds'] >= duration_threshold_in_hours * 3600]\n",
    "chess_games = chess_games[chess_games['duration_in_seconds'] < duration_threshold_in_hours * 3600]"
   ]
  },
  {
   "cell_type": "code",
   "execution_count": 17,
   "metadata": {},
   "outputs": [
    {
     "data": {
      "text/plain": [
       "(19766, 26)"
      ]
     },
     "execution_count": 17,
     "metadata": {},
     "output_type": "execute_result"
    }
   ],
   "source": [
    "chess_games.shape"
   ]
  },
  {
   "cell_type": "code",
   "execution_count": 18,
   "metadata": {},
   "outputs": [
    {
     "data": {
      "text/plain": [
       "(2, 26)"
      ]
     },
     "execution_count": 18,
     "metadata": {},
     "output_type": "execute_result"
    }
   ],
   "source": [
    "chess_games_invalid_duration.shape"
   ]
  },
  {
   "cell_type": "code",
   "execution_count": 19,
   "metadata": {},
   "outputs": [
    {
     "data": {
      "text/plain": [
       "white    4207\n",
       "black    3910\n",
       "draw      355\n",
       "Name: winner, dtype: int64"
      ]
     },
     "execution_count": 19,
     "metadata": {},
     "output_type": "execute_result"
    }
   ],
   "source": [
    "duration0 = chess_games[chess_games['duration_in_seconds'] == 0]\n",
    "duration0['winner'].value_counts()"
   ]
  },
  {
   "cell_type": "code",
   "execution_count": 20,
   "metadata": {},
   "outputs": [
    {
     "data": {
      "image/png": "[encoded data removed]",
      "text/plain": [
       "<Figure size 432x288 with 1 Axes>"
      ]
     },
     "metadata": {
      "needs_background": "light"
     },
     "output_type": "display_data"
    }
   ],
   "source": [
    "pyplot.hist(x=chess_games['duration_in_seconds'], bins=100)\n",
    "pyplot.xlabel('Duration (in seconds)')\n",
    "pyplot.ylabel('Frequency')\n",
    "pyplot.title('Matches\\' Durations')\n",
    "pyplot.show()"
   ]
  },
  {
   "cell_type": "markdown",
   "metadata": {},
   "source": [
    "Let's separate the matches that duration_in_seconds == 0."
   ]
  },
  {
   "cell_type": "code",
   "execution_count": 21,
   "metadata": {},
   "outputs": [],
   "source": [
    "chess_games_invalid_duration = pd.concat([chess_games_invalid_duration, duration0], ignore_index=False)\n",
    "chess_games = chess_games[chess_games['duration_in_seconds'] > 0]"
   ]
  },
  {
   "cell_type": "code",
   "execution_count": 22,
   "metadata": {},
   "outputs": [
    {
     "data": {
      "text/plain": [
       "(11294, 26)"
      ]
     },
     "execution_count": 22,
     "metadata": {},
     "output_type": "execute_result"
    }
   ],
   "source": [
    "chess_games.shape"
   ]
  },
  {
   "cell_type": "code",
   "execution_count": 23,
   "metadata": {},
   "outputs": [
    {
     "data": {
      "text/plain": [
       "(8474, 26)"
      ]
     },
     "execution_count": 23,
     "metadata": {},
     "output_type": "execute_result"
    }
   ],
   "source": [
    "chess_games_invalid_duration.shape"
   ]
  },
  {
   "cell_type": "code",
   "execution_count": 24,
   "metadata": {},
   "outputs": [
    {
     "data": {
      "image/png": "[encoded data removed]",
      "text/plain": [
       "<Figure size 432x288 with 1 Axes>"
      ]
     },
     "metadata": {
      "needs_background": "light"
     },
     "output_type": "display_data"
    }
   ],
   "source": [
    "pyplot.hist(x=chess_games['duration_in_seconds'], bins=100)\n",
    "pyplot.xlabel('Duration (in seconds)')\n",
    "pyplot.ylabel('Frequency')\n",
    "pyplot.title('Matches\\' Durations')\n",
    "pyplot.show()"
   ]
  },
  {
   "cell_type": "markdown",
   "metadata": {},
   "source": [
    "For our first analysis, we'll consider the dataset 'chess_games' and 'chess_games_invalid_duration' (this one without the 'duration_in_seconds' fields)."
   ]
  },
  {
   "cell_type": "markdown",
   "metadata": {},
   "source": [
    "The peak at ~10000 s = ~2.7 hours, which is a plausible match duration."
   ]
  },
  {
   "cell_type": "markdown",
   "metadata": {},
   "source": [
    "## Baseline"
   ]
  },
  {
   "cell_type": "markdown",
   "metadata": {},
   "source": [
    "Let's take as **baseline case** the result as a function of the rating difference:\n",
    "\n",
    "If\n",
    "* the modulus difference is less than _mean difference_ points => draw;\n",
    "* else, the difference is negative => black wins\n",
    "* else => white wins"
   ]
  },
  {
   "cell_type": "code",
   "execution_count": 25,
   "metadata": {},
   "outputs": [
    {
     "data": {
      "text/plain": [
       "(19768, 1)"
      ]
     },
     "execution_count": 25,
     "metadata": {},
     "output_type": "execute_result"
    }
   ],
   "source": [
    "all_matches = pd.concat([chess_games.copy(), chess_games_invalid_duration.copy()])\n",
    "baseline = pd.DataFrame(index=all_matches.index)\n",
    "baseline['rating_difference'] = all_matches['rating_difference']\n",
    "baseline.shape"
   ]
  },
  {
   "cell_type": "code",
   "execution_count": 26,
   "metadata": {},
   "outputs": [
    {
     "data": {
      "text/plain": [
       "7.517300687980574"
      ]
     },
     "execution_count": 26,
     "metadata": {},
     "output_type": "execute_result"
    }
   ],
   "source": [
    "baseline['rating_difference'].mean()"
   ]
  },
  {
   "cell_type": "code",
   "execution_count": 27,
   "metadata": {},
   "outputs": [
    {
     "data": {
      "text/plain": [
       "white    9587\n",
       "black    9111\n",
       "draw     1070\n",
       "Name: winner, dtype: int64"
      ]
     },
     "execution_count": 27,
     "metadata": {},
     "output_type": "execute_result"
    }
   ],
   "source": [
    "def get_base_winner(rating_diff):\n",
    "    if rating_diff < 7.5 and rating_diff > -7.5:\n",
    "        return 'draw'\n",
    "    elif rating_diff < 0:\n",
    "        return 'black'\n",
    "    else:\n",
    "        return 'white'\n",
    "\n",
    "baseline['winner'] = baseline['rating_difference'].apply(get_base_winner)\n",
    "baseline['winner'].value_counts()"
   ]
  },
  {
   "cell_type": "markdown",
   "metadata": {},
   "source": [
    "Let's use the **weighted avg precison** and **weighted avg recall** as our modeling metrics."
   ]
  },
  {
   "cell_type": "code",
   "execution_count": 28,
   "metadata": {},
   "outputs": [],
   "source": [
    "from sklearn.metrics import precision_recall_fscore_support, classification_report"
   ]
  },
  {
   "cell_type": "code",
   "execution_count": 29,
   "metadata": {},
   "outputs": [
    {
     "name": "stdout",
     "output_type": "stream",
     "text": [
      "              precision    recall  f1-score   support\n",
      "\n",
      "       black     0.6074    0.6160    0.6117      8984\n",
      "        draw     0.0551    0.0630    0.0588       937\n",
      "       white     0.6446    0.6276    0.6360      9847\n",
      "\n",
      "    accuracy                         0.5956     19768\n",
      "   macro avg     0.4357    0.4355    0.4355     19768\n",
      "weighted avg     0.5998    0.5956    0.5976     19768\n",
      "\n"
     ]
    }
   ],
   "source": [
    "print(classification_report(all_matches['winner'], baseline['winner'], digits=4))"
   ]
  },
  {
   "cell_type": "markdown",
   "metadata": {},
   "source": [
    "p 0.5998, auc 0.5956 - Baseline"
   ]
  },
  {
   "cell_type": "code",
   "execution_count": 30,
   "metadata": {},
   "outputs": [
    {
     "data": {
      "text/plain": [
       "0.5997636996371806"
      ]
     },
     "execution_count": 30,
     "metadata": {},
     "output_type": "execute_result"
    }
   ],
   "source": [
    "results = precision_recall_fscore_support(all_matches['winner'], baseline['winner'])\n",
    "np.average(results[0], weights=results[3])"
   ]
  },
  {
   "cell_type": "markdown",
   "metadata": {},
   "source": [
    "weighted_avg_precision = weighted_avg(precision, support)"
   ]
  },
  {
   "cell_type": "markdown",
   "metadata": {},
   "source": [
    "## Cross-validation"
   ]
  },
  {
   "cell_type": "markdown",
   "metadata": {},
   "source": [
    "As the dataset is small, let's divide 50% train / 50% validation in each fold."
   ]
  },
  {
   "cell_type": "code",
   "execution_count": 31,
   "metadata": {},
   "outputs": [],
   "source": [
    "from sklearn.ensemble import RandomForestClassifier\n",
    "from sklearn.model_selection import RepeatedKFold"
   ]
  },
  {
   "cell_type": "code",
   "execution_count": 51,
   "metadata": {},
   "outputs": [],
   "source": [
    "variables = ['victory_status_outoftime', 'victory_status_resign', 'victory_status_mate', 'victory_status_draw', \n",
    "             'white_rating', 'black_rating', 'minutes', 'incr_seconds', 'rating_difference', \n",
    "             'white_castled', 'black_castled', 'white_takes_count', 'black_takes_count']"
   ]
  },
  {
   "cell_type": "code",
   "execution_count": 52,
   "metadata": {},
   "outputs": [
    {
     "name": "stdout",
     "output_type": "stream",
     "text": [
      "Iteração 1\n",
      "=====================\n",
      "Precision: 0.8147405156517191\n",
      "AUC: 0.8143464184540672\n",
      "\n",
      "Iteração 2\n",
      "=====================\n",
      "Precision: 0.8225282762547952\n",
      "AUC: 0.8221367867260219\n",
      "\n",
      "Iteração 3\n",
      "=====================\n",
      "Precision: 0.8227088624000376\n",
      "AUC: 0.8223391339538648\n",
      "\n",
      "Iteração 4\n",
      "=====================\n",
      "Precision: 0.8168855581028033\n",
      "AUC: 0.8166734115742614\n",
      "\n",
      "Iteração 5\n",
      "=====================\n",
      "Precision: 0.8183107873234557\n",
      "AUC: 0.8180898421691623\n",
      "\n",
      "Iteração 6\n",
      "=====================\n",
      "Precision: 0.8206534310076344\n",
      "AUC: 0.820315661675435\n",
      "\n",
      "Iteração 7\n",
      "=====================\n",
      "Precision: 0.8202472395919369\n",
      "AUC: 0.8199109672197491\n",
      "\n",
      "Iteração 8\n",
      "=====================\n",
      "Precision: 0.813817332604229\n",
      "AUC: 0.8136382031566167\n",
      "\n",
      "Iteração 9\n",
      "=====================\n",
      "Precision: 0.8213698358810653\n",
      "AUC: 0.820922703358964\n",
      "\n",
      "Iteração 10\n",
      "=====================\n",
      "Precision: 0.8144150973498077\n",
      "AUC: 0.8139417239983813\n",
      "\n",
      "Iteração 11\n",
      "=====================\n",
      "Precision: 0.8161888559767039\n",
      "AUC: 0.8158640226628895\n",
      "\n",
      "Iteração 12\n",
      "=====================\n",
      "Precision: 0.8206048559235652\n",
      "AUC: 0.8203156616754349\n",
      "\n",
      "Iteração 13\n",
      "=====================\n",
      "Precision: 0.8156614769495771\n",
      "AUC: 0.8152569809793606\n",
      "\n",
      "Iteração 14\n",
      "=====================\n",
      "Precision: 0.8251550121683621\n",
      "AUC: 0.8247673006879805\n",
      "\n",
      "Iteração 15\n",
      "=====================\n",
      "Precision: 0.8153570358480934\n",
      "AUC: 0.8151558073654391\n",
      "\n",
      "Iteração 16\n",
      "=====================\n",
      "Precision: 0.8146088853446901\n",
      "AUC: 0.8142452448401457\n",
      "\n",
      "Iteração 17\n",
      "=====================\n",
      "Precision: 0.8210699615366293\n",
      "AUC: 0.820518008903278\n",
      "\n",
      "Iteração 18\n",
      "=====================\n",
      "Precision: 0.8174828249025103\n",
      "AUC: 0.8169769324160259\n",
      "\n",
      "Iteração 19\n",
      "=====================\n",
      "Precision: 0.8168643092968911\n",
      "AUC: 0.816369890732497\n",
      "\n",
      "Iteração 20\n",
      "=====================\n",
      "Precision: 0.8229100705485659\n",
      "AUC: 0.8225414811817078\n",
      "\n",
      "Average Precision: 0.8185790112331537\n",
      "Average AUC: 0.8182163091865642\n"
     ]
    }
   ],
   "source": [
    "avg_weighted_precisions = []\n",
    "avg_weighted_aucs = []\n",
    "kf = RepeatedKFold(n_splits=2, n_repeats=10, random_state=0)\n",
    "\n",
    "X = all_matches[variables]\n",
    "y = all_matches['winner']\n",
    "i = 0\n",
    "\n",
    "for lines_train, lines_valid in kf.split(all_matches):\n",
    "    X_train, y_train = X.iloc[lines_train], y.iloc[lines_train]\n",
    "    X_valid, y_valid = X.iloc[lines_valid], y.iloc[lines_valid]\n",
    "    i = i + 1\n",
    "    \n",
    "    model = RandomForestClassifier(n_estimators=200, n_jobs=-1, random_state=0)\n",
    "    model.fit(X_train, y_train)\n",
    "    \n",
    "    predicted = model.predict(X_valid)\n",
    "\n",
    "    results = precision_recall_fscore_support(y_valid, predicted)\n",
    "    support = results[3]\n",
    "    prec = np.average(results[0], weights=support)\n",
    "    auc = np.average(results[1], weights=support)\n",
    "    print(\"Iteração {}\".format(i))\n",
    "    print(\"=====================\")\n",
    "    print(\"Precision: {}\".format(prec))\n",
    "    print(\"AUC: {}\".format(auc))\n",
    "    print()\n",
    "    \n",
    "    avg_weighted_precisions.append(prec)\n",
    "    avg_weighted_aucs.append(auc)\n",
    "\n",
    "print(\"Average Precision: {}\".format(np.mean(avg_weighted_precisions)))\n",
    "print(\"Average AUC: {}\".format(np.mean(avg_weighted_aucs)))"
   ]
  },
  {
   "cell_type": "code",
   "execution_count": 53,
   "metadata": {},
   "outputs": [
    {
     "data": {
      "text/plain": [
       "(array([4., 2., 3., 2., 0., 2., 3., 2., 1., 1.]),\n",
       " array([0.81381733, 0.8149511 , 0.81608487, 0.81721864, 0.8183524 ,\n",
       "        0.81948617, 0.82061994, 0.82175371, 0.82288748, 0.82402124,\n",
       "        0.82515501]),\n",
       " <a list of 10 Patch objects>)"
      ]
     },
     "execution_count": 53,
     "metadata": {},
     "output_type": "execute_result"
    },
    {
     "data": {
      "image/png": "[encoded data removed]",
      "text/plain": [
       "<Figure size 432x288 with 1 Axes>"
      ]
     },
     "metadata": {
      "needs_background": "light"
     },
     "output_type": "display_data"
    }
   ],
   "source": [
    "pylab.hist(avg_weighted_precisions)"
   ]
  },
  {
   "cell_type": "markdown",
   "metadata": {},
   "source": [
    "Accuracy is below the baseline."
   ]
  },
  {
   "cell_type": "markdown",
   "metadata": {},
   "source": [
    "p 0.5998, auc 0.5956 - Baseline\n",
    "\n",
    "p 0.6554, auc 0.6549 - Random Forest\n",
    "\n",
    "p 0.6585, auc 0.6580 - Random Forest (n=200) with 'castled' variables\n",
    "\n",
    "p 0.8186, auc 0.8182 - Random Forest (n=200) with 'castled' and 'takes_count' variables"
   ]
  },
  {
   "cell_type": "markdown",
   "metadata": {},
   "source": [
    "## Analise de Erro"
   ]
  },
  {
   "cell_type": "code",
   "execution_count": 54,
   "metadata": {},
   "outputs": [
    {
     "data": {
      "text/html": [
       "<div>\n",
       "<style scoped>\n",
       "    .dataframe tbody tr th:only-of-type {\n",
       "        vertical-align: middle;\n",
       "    }\n",
       "\n",
       "    .dataframe tbody tr th {\n",
       "        vertical-align: top;\n",
       "    }\n",
       "\n",
       "    .dataframe thead th {\n",
       "        text-align: right;\n",
       "    }\n",
       "</style>\n",
       "<table border=\"1\" class=\"dataframe\">\n",
       "  <thead>\n",
       "    <tr style=\"text-align: right;\">\n",
       "      <th></th>\n",
       "      <th>victory_status_outoftime</th>\n",
       "      <th>victory_status_resign</th>\n",
       "      <th>victory_status_mate</th>\n",
       "      <th>victory_status_draw</th>\n",
       "      <th>white_rating</th>\n",
       "      <th>black_rating</th>\n",
       "      <th>minutes</th>\n",
       "      <th>incr_seconds</th>\n",
       "      <th>rating_difference</th>\n",
       "      <th>white_castled</th>\n",
       "      <th>black_castled</th>\n",
       "      <th>white_takes_count</th>\n",
       "      <th>black_takes_count</th>\n",
       "      <th>winner</th>\n",
       "      <th>predicted</th>\n",
       "    </tr>\n",
       "  </thead>\n",
       "  <tbody>\n",
       "    <tr>\n",
       "      <td>157</td>\n",
       "      <td>0</td>\n",
       "      <td>1</td>\n",
       "      <td>0</td>\n",
       "      <td>0</td>\n",
       "      <td>1833</td>\n",
       "      <td>1863</td>\n",
       "      <td>15</td>\n",
       "      <td>0</td>\n",
       "      <td>-30</td>\n",
       "      <td>1</td>\n",
       "      <td>1</td>\n",
       "      <td>8</td>\n",
       "      <td>8</td>\n",
       "      <td>white</td>\n",
       "      <td>black</td>\n",
       "    </tr>\n",
       "    <tr>\n",
       "      <td>171</td>\n",
       "      <td>0</td>\n",
       "      <td>1</td>\n",
       "      <td>0</td>\n",
       "      <td>0</td>\n",
       "      <td>1848</td>\n",
       "      <td>1806</td>\n",
       "      <td>5</td>\n",
       "      <td>5</td>\n",
       "      <td>42</td>\n",
       "      <td>1</td>\n",
       "      <td>1</td>\n",
       "      <td>10</td>\n",
       "      <td>9</td>\n",
       "      <td>black</td>\n",
       "      <td>white</td>\n",
       "    </tr>\n",
       "    <tr>\n",
       "      <td>225</td>\n",
       "      <td>0</td>\n",
       "      <td>0</td>\n",
       "      <td>1</td>\n",
       "      <td>0</td>\n",
       "      <td>1240</td>\n",
       "      <td>1219</td>\n",
       "      <td>20</td>\n",
       "      <td>5</td>\n",
       "      <td>21</td>\n",
       "      <td>0</td>\n",
       "      <td>0</td>\n",
       "      <td>11</td>\n",
       "      <td>11</td>\n",
       "      <td>white</td>\n",
       "      <td>black</td>\n",
       "    </tr>\n",
       "    <tr>\n",
       "      <td>412</td>\n",
       "      <td>0</td>\n",
       "      <td>0</td>\n",
       "      <td>1</td>\n",
       "      <td>0</td>\n",
       "      <td>1612</td>\n",
       "      <td>1450</td>\n",
       "      <td>20</td>\n",
       "      <td>0</td>\n",
       "      <td>162</td>\n",
       "      <td>1</td>\n",
       "      <td>0</td>\n",
       "      <td>4</td>\n",
       "      <td>6</td>\n",
       "      <td>white</td>\n",
       "      <td>black</td>\n",
       "    </tr>\n",
       "    <tr>\n",
       "      <td>450</td>\n",
       "      <td>0</td>\n",
       "      <td>0</td>\n",
       "      <td>1</td>\n",
       "      <td>0</td>\n",
       "      <td>1509</td>\n",
       "      <td>1487</td>\n",
       "      <td>10</td>\n",
       "      <td>0</td>\n",
       "      <td>22</td>\n",
       "      <td>1</td>\n",
       "      <td>1</td>\n",
       "      <td>7</td>\n",
       "      <td>6</td>\n",
       "      <td>black</td>\n",
       "      <td>white</td>\n",
       "    </tr>\n",
       "    <tr>\n",
       "      <td>...</td>\n",
       "      <td>...</td>\n",
       "      <td>...</td>\n",
       "      <td>...</td>\n",
       "      <td>...</td>\n",
       "      <td>...</td>\n",
       "      <td>...</td>\n",
       "      <td>...</td>\n",
       "      <td>...</td>\n",
       "      <td>...</td>\n",
       "      <td>...</td>\n",
       "      <td>...</td>\n",
       "      <td>...</td>\n",
       "      <td>...</td>\n",
       "      <td>...</td>\n",
       "      <td>...</td>\n",
       "    </tr>\n",
       "    <tr>\n",
       "      <td>9236</td>\n",
       "      <td>0</td>\n",
       "      <td>0</td>\n",
       "      <td>1</td>\n",
       "      <td>0</td>\n",
       "      <td>1271</td>\n",
       "      <td>1346</td>\n",
       "      <td>11</td>\n",
       "      <td>11</td>\n",
       "      <td>-75</td>\n",
       "      <td>0</td>\n",
       "      <td>1</td>\n",
       "      <td>6</td>\n",
       "      <td>6</td>\n",
       "      <td>white</td>\n",
       "      <td>black</td>\n",
       "    </tr>\n",
       "    <tr>\n",
       "      <td>9243</td>\n",
       "      <td>0</td>\n",
       "      <td>1</td>\n",
       "      <td>0</td>\n",
       "      <td>0</td>\n",
       "      <td>1529</td>\n",
       "      <td>1247</td>\n",
       "      <td>10</td>\n",
       "      <td>0</td>\n",
       "      <td>282</td>\n",
       "      <td>1</td>\n",
       "      <td>1</td>\n",
       "      <td>11</td>\n",
       "      <td>8</td>\n",
       "      <td>black</td>\n",
       "      <td>white</td>\n",
       "    </tr>\n",
       "    <tr>\n",
       "      <td>9261</td>\n",
       "      <td>0</td>\n",
       "      <td>1</td>\n",
       "      <td>0</td>\n",
       "      <td>0</td>\n",
       "      <td>1711</td>\n",
       "      <td>1631</td>\n",
       "      <td>20</td>\n",
       "      <td>0</td>\n",
       "      <td>80</td>\n",
       "      <td>1</td>\n",
       "      <td>1</td>\n",
       "      <td>8</td>\n",
       "      <td>9</td>\n",
       "      <td>white</td>\n",
       "      <td>black</td>\n",
       "    </tr>\n",
       "    <tr>\n",
       "      <td>9271</td>\n",
       "      <td>0</td>\n",
       "      <td>1</td>\n",
       "      <td>0</td>\n",
       "      <td>0</td>\n",
       "      <td>1302</td>\n",
       "      <td>1585</td>\n",
       "      <td>10</td>\n",
       "      <td>0</td>\n",
       "      <td>-283</td>\n",
       "      <td>0</td>\n",
       "      <td>0</td>\n",
       "      <td>2</td>\n",
       "      <td>2</td>\n",
       "      <td>white</td>\n",
       "      <td>black</td>\n",
       "    </tr>\n",
       "    <tr>\n",
       "      <td>9278</td>\n",
       "      <td>0</td>\n",
       "      <td>1</td>\n",
       "      <td>0</td>\n",
       "      <td>0</td>\n",
       "      <td>1588</td>\n",
       "      <td>1500</td>\n",
       "      <td>10</td>\n",
       "      <td>0</td>\n",
       "      <td>88</td>\n",
       "      <td>1</td>\n",
       "      <td>1</td>\n",
       "      <td>10</td>\n",
       "      <td>8</td>\n",
       "      <td>black</td>\n",
       "      <td>white</td>\n",
       "    </tr>\n",
       "  </tbody>\n",
       "</table>\n",
       "<p>1754 rows × 15 columns</p>\n",
       "</div>"
      ],
      "text/plain": [
       "      victory_status_outoftime  victory_status_resign  victory_status_mate  \\\n",
       "157                          0                      1                    0   \n",
       "171                          0                      1                    0   \n",
       "225                          0                      0                    1   \n",
       "412                          0                      0                    1   \n",
       "450                          0                      0                    1   \n",
       "...                        ...                    ...                  ...   \n",
       "9236                         0                      0                    1   \n",
       "9243                         0                      1                    0   \n",
       "9261                         0                      1                    0   \n",
       "9271                         0                      1                    0   \n",
       "9278                         0                      1                    0   \n",
       "\n",
       "      victory_status_draw  white_rating  black_rating  minutes  incr_seconds  \\\n",
       "157                     0          1833          1863       15             0   \n",
       "171                     0          1848          1806        5             5   \n",
       "225                     0          1240          1219       20             5   \n",
       "412                     0          1612          1450       20             0   \n",
       "450                     0          1509          1487       10             0   \n",
       "...                   ...           ...           ...      ...           ...   \n",
       "9236                    0          1271          1346       11            11   \n",
       "9243                    0          1529          1247       10             0   \n",
       "9261                    0          1711          1631       20             0   \n",
       "9271                    0          1302          1585       10             0   \n",
       "9278                    0          1588          1500       10             0   \n",
       "\n",
       "      rating_difference  white_castled  black_castled  white_takes_count  \\\n",
       "157                 -30              1              1                  8   \n",
       "171                  42              1              1                 10   \n",
       "225                  21              0              0                 11   \n",
       "412                 162              1              0                  4   \n",
       "450                  22              1              1                  7   \n",
       "...                 ...            ...            ...                ...   \n",
       "9236                -75              0              1                  6   \n",
       "9243                282              1              1                 11   \n",
       "9261                 80              1              1                  8   \n",
       "9271               -283              0              0                  2   \n",
       "9278                 88              1              1                 10   \n",
       "\n",
       "      black_takes_count winner predicted  \n",
       "157                   8  white     black  \n",
       "171                   9  black     white  \n",
       "225                  11  white     black  \n",
       "412                   6  white     black  \n",
       "450                   6  black     white  \n",
       "...                 ...    ...       ...  \n",
       "9236                  6  white     black  \n",
       "9243                  8  black     white  \n",
       "9261                  9  white     black  \n",
       "9271                  2  white     black  \n",
       "9278                  8  black     white  \n",
       "\n",
       "[1754 rows x 15 columns]"
      ]
     },
     "execution_count": 54,
     "metadata": {},
     "output_type": "execute_result"
    }
   ],
   "source": [
    "X_valid['winner'] = y_valid\n",
    "X_valid['predicted'] = predicted\n",
    "\n",
    "error = X_valid[X_valid['winner'] != X_valid['predicted']]\n",
    "error"
   ]
  },
  {
   "cell_type": "code",
   "execution_count": 55,
   "metadata": {},
   "outputs": [
    {
     "data": {
      "text/plain": [
       "((array([  8.,  81., 219., 450., 396., 331., 186.,  64.,  12.,   7.]),\n",
       "  array([ 793. ,  975.8, 1158.6, 1341.4, 1524.2, 1707. , 1889.8, 2072.6,\n",
       "         2255.4, 2438.2, 2621. ]),\n",
       "  <a list of 10 Patch objects>),\n",
       " (array([  80.,  508., 1440., 2960., 2738., 1971., 1050.,  428.,   86.,\n",
       "           33.]),\n",
       "  array([ 788. ,  979.2, 1170.4, 1361.6, 1552.8, 1744. , 1935.2, 2126.4,\n",
       "         2317.6, 2508.8, 2700. ]),\n",
       "  <a list of 10 Patch objects>))"
      ]
     },
     "execution_count": 55,
     "metadata": {},
     "output_type": "execute_result"
    },
    {
     "data": {
      "image/png": "[encoded data removed]",
      "text/plain": [
       "<Figure size 432x288 with 1 Axes>"
      ]
     },
     "metadata": {
      "needs_background": "light"
     },
     "output_type": "display_data"
    }
   ],
   "source": [
    "pylab.hist(error['white_rating']), pylab.hist(chess_games['white_rating'], alpha=0.7)"
   ]
  },
  {
   "cell_type": "code",
   "execution_count": 56,
   "metadata": {},
   "outputs": [
    {
     "data": {
      "text/plain": [
       "((array([ 16.,  99., 245., 449., 414., 289., 164.,  61.,  14.,   3.]),\n",
       "  array([ 845. , 1022.6, 1200.2, 1377.8, 1555.4, 1733. , 1910.6, 2088.2,\n",
       "         2265.8, 2443.4, 2621. ]),\n",
       "  <a list of 10 Patch objects>),\n",
       " (array([  94.,  406., 1369., 2716., 2671., 2097., 1220.,  563.,  123.,\n",
       "           35.]),\n",
       "  array([ 789. ,  972.2, 1155.4, 1338.6, 1521.8, 1705. , 1888.2, 2071.4,\n",
       "         2254.6, 2437.8, 2621. ]),\n",
       "  <a list of 10 Patch objects>))"
      ]
     },
     "execution_count": 56,
     "metadata": {},
     "output_type": "execute_result"
    },
    {
     "data": {
      "image/png": "[encoded data removed]",
      "text/plain": [
       "<Figure size 432x288 with 1 Axes>"
      ]
     },
     "metadata": {
      "needs_background": "light"
     },
     "output_type": "display_data"
    }
   ],
   "source": [
    "pylab.hist(error['black_rating']), pylab.hist(chess_games['black_rating'], alpha=0.7)"
   ]
  },
  {
   "cell_type": "code",
   "execution_count": 57,
   "metadata": {},
   "outputs": [
    {
     "data": {
      "text/plain": [
       "((array([  2.,   0.,   0.,   0.,   0.,   0.,   0.,   0.,   0.,   0.,   0.,\n",
       "           0.,   0.,   0.,   1.,   0.,   0.,   0.,   0.,   0.,   1.,   0.,\n",
       "           1.,   0.,   1.,   1.,   1.,   5.,   3.,   1.,   3.,   1.,   5.,\n",
       "           4.,   2.,   2.,   5.,   2.,  10.,   8.,   6.,   9.,   6.,   9.,\n",
       "           9.,  16.,  12.,  17.,  17.,  28.,  28.,  30.,  27.,  49.,  38.,\n",
       "          66.,  72.,  67.,  99.,  83., 120., 110., 110.,  82.,  69.,  52.,\n",
       "          61.,  50.,  60.,  39.,  40.,  24.,  27.,  25.,   8.,  14.,  16.,\n",
       "          16.,  12.,   9.,  12.,   3.,   8.,   4.,   7.,   4.,   7.,   1.,\n",
       "           2.,   2.,   3.,   0.,   2.,   1.,   0.,   1.,   0.,   0.,   2.,\n",
       "           4.]), array([-1.12100e+03, -1.10262e+03, -1.08424e+03, -1.06586e+03,\n",
       "         -1.04748e+03, -1.02910e+03, -1.01072e+03, -9.92340e+02,\n",
       "         -9.73960e+02, -9.55580e+02, -9.37200e+02, -9.18820e+02,\n",
       "         -9.00440e+02, -8.82060e+02, -8.63680e+02, -8.45300e+02,\n",
       "         -8.26920e+02, -8.08540e+02, -7.90160e+02, -7.71780e+02,\n",
       "         -7.53400e+02, -7.35020e+02, -7.16640e+02, -6.98260e+02,\n",
       "         -6.79880e+02, -6.61500e+02, -6.43120e+02, -6.24740e+02,\n",
       "         -6.06360e+02, -5.87980e+02, -5.69600e+02, -5.51220e+02,\n",
       "         -5.32840e+02, -5.14460e+02, -4.96080e+02, -4.77700e+02,\n",
       "         -4.59320e+02, -4.40940e+02, -4.22560e+02, -4.04180e+02,\n",
       "         -3.85800e+02, -3.67420e+02, -3.49040e+02, -3.30660e+02,\n",
       "         -3.12280e+02, -2.93900e+02, -2.75520e+02, -2.57140e+02,\n",
       "         -2.38760e+02, -2.20380e+02, -2.02000e+02, -1.83620e+02,\n",
       "         -1.65240e+02, -1.46860e+02, -1.28480e+02, -1.10100e+02,\n",
       "         -9.17200e+01, -7.33400e+01, -5.49600e+01, -3.65800e+01,\n",
       "         -1.82000e+01,  1.80000e-01,  1.85600e+01,  3.69400e+01,\n",
       "          5.53200e+01,  7.37000e+01,  9.20800e+01,  1.10460e+02,\n",
       "          1.28840e+02,  1.47220e+02,  1.65600e+02,  1.83980e+02,\n",
       "          2.02360e+02,  2.20740e+02,  2.39120e+02,  2.57500e+02,\n",
       "          2.75880e+02,  2.94260e+02,  3.12640e+02,  3.31020e+02,\n",
       "          3.49400e+02,  3.67780e+02,  3.86160e+02,  4.04540e+02,\n",
       "          4.22920e+02,  4.41300e+02,  4.59680e+02,  4.78060e+02,\n",
       "          4.96440e+02,  5.14820e+02,  5.33200e+02,  5.51580e+02,\n",
       "          5.69960e+02,  5.88340e+02,  6.06720e+02,  6.25100e+02,\n",
       "          6.43480e+02,  6.61860e+02,  6.80240e+02,  6.98620e+02,\n",
       "          7.17000e+02]), <a list of 100 Patch objects>),\n",
       " (array([1.000e+00, 0.000e+00, 0.000e+00, 0.000e+00, 3.000e+00, 1.000e+00,\n",
       "         0.000e+00, 1.000e+00, 0.000e+00, 4.000e+00, 1.000e+00, 1.000e+00,\n",
       "         1.000e+00, 2.000e+00, 6.000e+00, 6.000e+00, 2.000e+00, 3.000e+00,\n",
       "         4.000e+00, 5.000e+00, 1.200e+01, 7.000e+00, 1.100e+01, 2.200e+01,\n",
       "         1.500e+01, 1.700e+01, 2.300e+01, 3.400e+01, 2.100e+01, 3.100e+01,\n",
       "         5.900e+01, 4.800e+01, 5.500e+01, 6.800e+01, 6.400e+01, 1.070e+02,\n",
       "         1.230e+02, 1.360e+02, 1.800e+02, 1.680e+02, 2.420e+02, 2.720e+02,\n",
       "         3.050e+02, 3.610e+02, 4.480e+02, 5.280e+02, 7.070e+02, 8.200e+02,\n",
       "         1.079e+03, 8.760e+02, 6.960e+02, 5.530e+02, 4.850e+02, 4.110e+02,\n",
       "         3.700e+02, 3.050e+02, 2.170e+02, 2.250e+02, 1.680e+02, 1.500e+02,\n",
       "         1.130e+02, 9.800e+01, 8.400e+01, 8.100e+01, 8.700e+01, 4.300e+01,\n",
       "         5.700e+01, 3.300e+01, 4.000e+01, 2.900e+01, 2.300e+01, 1.600e+01,\n",
       "         2.200e+01, 2.100e+01, 8.000e+00, 8.000e+00, 1.800e+01, 3.000e+00,\n",
       "         3.000e+00, 6.000e+00, 1.000e+00, 5.000e+00, 1.200e+01, 7.000e+00,\n",
       "         1.000e+00, 2.000e+00, 0.000e+00, 2.000e+00, 2.000e+00, 2.000e+00,\n",
       "         2.000e+00, 0.000e+00, 1.000e+00, 1.000e+00, 0.000e+00, 0.000e+00,\n",
       "         0.000e+00, 0.000e+00, 1.000e+00, 2.000e+00]),\n",
       "  array([-1407.  , -1378.01, -1349.02, -1320.03, -1291.04, -1262.05,\n",
       "         -1233.06, -1204.07, -1175.08, -1146.09, -1117.1 , -1088.11,\n",
       "         -1059.12, -1030.13, -1001.14,  -972.15,  -943.16,  -914.17,\n",
       "          -885.18,  -856.19,  -827.2 ,  -798.21,  -769.22,  -740.23,\n",
       "          -711.24,  -682.25,  -653.26,  -624.27,  -595.28,  -566.29,\n",
       "          -537.3 ,  -508.31,  -479.32,  -450.33,  -421.34,  -392.35,\n",
       "          -363.36,  -334.37,  -305.38,  -276.39,  -247.4 ,  -218.41,\n",
       "          -189.42,  -160.43,  -131.44,  -102.45,   -73.46,   -44.47,\n",
       "           -15.48,    13.51,    42.5 ,    71.49,   100.48,   129.47,\n",
       "           158.46,   187.45,   216.44,   245.43,   274.42,   303.41,\n",
       "           332.4 ,   361.39,   390.38,   419.37,   448.36,   477.35,\n",
       "           506.34,   535.33,   564.32,   593.31,   622.3 ,   651.29,\n",
       "           680.28,   709.27,   738.26,   767.25,   796.24,   825.23,\n",
       "           854.22,   883.21,   912.2 ,   941.19,   970.18,   999.17,\n",
       "          1028.16,  1057.15,  1086.14,  1115.13,  1144.12,  1173.11,\n",
       "          1202.1 ,  1231.09,  1260.08,  1289.07,  1318.06,  1347.05,\n",
       "          1376.04,  1405.03,  1434.02,  1463.01,  1492.  ]),\n",
       "  <a list of 100 Patch objects>))"
      ]
     },
     "execution_count": 57,
     "metadata": {},
     "output_type": "execute_result"
    },
    {
     "data": {
      "image/png": "[encoded data removed]",
      "text/plain": [
       "<Figure size 432x288 with 1 Axes>"
      ]
     },
     "metadata": {
      "needs_background": "light"
     },
     "output_type": "display_data"
    }
   ],
   "source": [
    "pylab.hist(error['rating_difference'], bins=100), pylab.hist(chess_games['rating_difference'], bins=100, alpha=0.7)"
   ]
  },
  {
   "cell_type": "code",
   "execution_count": 58,
   "metadata": {},
   "outputs": [
    {
     "data": {
      "text/plain": [
       "(10     853\n",
       " 15     291\n",
       " 5      149\n",
       " 8       93\n",
       " 20      88\n",
       " 30      65\n",
       " 7       50\n",
       " 25      28\n",
       " 6       19\n",
       " 9       18\n",
       " 45      16\n",
       " 12      11\n",
       " 180     10\n",
       " 13       9\n",
       " 11       8\n",
       " 4        7\n",
       " 2        7\n",
       " 3        5\n",
       " 14       5\n",
       " 60       5\n",
       " 90       3\n",
       " 35       3\n",
       " 1        3\n",
       " 17       2\n",
       " 40       2\n",
       " 16       1\n",
       " 18       1\n",
       " 19       1\n",
       " 0        1\n",
       " Name: minutes, dtype: int64, 10     5391\n",
       " 15     1831\n",
       " 5       949\n",
       " 8       527\n",
       " 20      488\n",
       " 30      463\n",
       " 7       399\n",
       " 25      216\n",
       " 9       156\n",
       " 12      140\n",
       " 45      128\n",
       " 6        80\n",
       " 180      68\n",
       " 60       60\n",
       " 11       45\n",
       " 4        37\n",
       " 13       36\n",
       " 14       35\n",
       " 3        35\n",
       " 16       29\n",
       " 40       27\n",
       " 0        26\n",
       " 2        24\n",
       " 1        20\n",
       " 17       19\n",
       " 19       15\n",
       " 120      13\n",
       " 18       10\n",
       " 90       10\n",
       " 150       7\n",
       " 35        7\n",
       " 29        2\n",
       " 21        1\n",
       " Name: minutes, dtype: int64)"
      ]
     },
     "execution_count": 58,
     "metadata": {},
     "output_type": "execute_result"
    }
   ],
   "source": [
    "error['minutes'].value_counts(), chess_games['minutes'].value_counts()"
   ]
  },
  {
   "cell_type": "code",
   "execution_count": 59,
   "metadata": {},
   "outputs": [
    {
     "data": {
      "text/plain": [
       "(0      1001\n",
       " 5       185\n",
       " 10      112\n",
       " 15       96\n",
       " 8        88\n",
       " 2        70\n",
       " 3        38\n",
       " 30       25\n",
       " 1        24\n",
       " 6        19\n",
       " 7        13\n",
       " 45       11\n",
       " 12       11\n",
       " 20       10\n",
       " 14        9\n",
       " 4         7\n",
       " 60        7\n",
       " 9         7\n",
       " 180       5\n",
       " 11        5\n",
       " 17        2\n",
       " 25        2\n",
       " 40        2\n",
       " 13        2\n",
       " 16        1\n",
       " 18        1\n",
       " 19        1\n",
       " Name: incr_seconds, dtype: int64, 0      6148\n",
       " 5      1189\n",
       " 10      834\n",
       " 15      685\n",
       " 8       614\n",
       " 2       389\n",
       " 30      222\n",
       " 3       219\n",
       " 1       126\n",
       " 6       110\n",
       " 45      100\n",
       " 7        94\n",
       " 9        87\n",
       " 60       83\n",
       " 4        82\n",
       " 20       69\n",
       " 180      51\n",
       " 25       40\n",
       " 12       33\n",
       " 40       24\n",
       " 17       18\n",
       " 14       17\n",
       " 11       17\n",
       " 16       11\n",
       " 18       10\n",
       " 13        7\n",
       " 21        6\n",
       " 19        3\n",
       " 35        2\n",
       " 120       2\n",
       " 150       1\n",
       " 90        1\n",
       " Name: incr_seconds, dtype: int64)"
      ]
     },
     "execution_count": 59,
     "metadata": {},
     "output_type": "execute_result"
    }
   ],
   "source": [
    "error['incr_seconds'].value_counts(), chess_games['incr_seconds'].value_counts()"
   ]
  },
  {
   "cell_type": "code",
   "execution_count": 60,
   "metadata": {},
   "outputs": [
    {
     "data": {
      "text/plain": [
       "1001"
      ]
     },
     "execution_count": 60,
     "metadata": {},
     "output_type": "execute_result"
    }
   ],
   "source": [
    "len(error[error['incr_seconds'] == 0])"
   ]
  },
  {
   "cell_type": "code",
   "execution_count": 61,
   "metadata": {},
   "outputs": [
    {
     "data": {
      "text/plain": [
       "753"
      ]
     },
     "execution_count": 61,
     "metadata": {},
     "output_type": "execute_result"
    }
   ],
   "source": [
    "len(error[error['incr_seconds'] > 0])"
   ]
  },
  {
   "cell_type": "code",
   "execution_count": 62,
   "metadata": {},
   "outputs": [
    {
     "data": {
      "text/plain": [
       "0    1481\n",
       "1     273\n",
       "Name: victory_status_outoftime, dtype: int64"
      ]
     },
     "execution_count": 62,
     "metadata": {},
     "output_type": "execute_result"
    }
   ],
   "source": [
    "#victory_status_outoftime \tvictory_status_resign \tvictory_status_mate \tvictory_status_draw\n",
    "error['victory_status_outoftime'].value_counts()"
   ]
  },
  {
   "cell_type": "code",
   "execution_count": 63,
   "metadata": {},
   "outputs": [
    {
     "data": {
      "text/plain": [
       "0    10295\n",
       "1      999\n",
       "Name: victory_status_outoftime, dtype: int64"
      ]
     },
     "execution_count": 63,
     "metadata": {},
     "output_type": "execute_result"
    }
   ],
   "source": [
    "chess_games['victory_status_outoftime'].value_counts()"
   ]
  },
  {
   "cell_type": "code",
   "execution_count": 64,
   "metadata": {},
   "outputs": [
    {
     "data": {
      "text/html": [
       "<div>\n",
       "<style scoped>\n",
       "    .dataframe tbody tr th:only-of-type {\n",
       "        vertical-align: middle;\n",
       "    }\n",
       "\n",
       "    .dataframe tbody tr th {\n",
       "        vertical-align: top;\n",
       "    }\n",
       "\n",
       "    .dataframe thead th {\n",
       "        text-align: right;\n",
       "    }\n",
       "</style>\n",
       "<table border=\"1\" class=\"dataframe\">\n",
       "  <thead>\n",
       "    <tr style=\"text-align: right;\">\n",
       "      <th></th>\n",
       "      <th>victory_status_outoftime</th>\n",
       "      <th>victory_status_resign</th>\n",
       "      <th>victory_status_mate</th>\n",
       "      <th>victory_status_draw</th>\n",
       "      <th>white_rating</th>\n",
       "      <th>black_rating</th>\n",
       "      <th>minutes</th>\n",
       "      <th>incr_seconds</th>\n",
       "      <th>rating_difference</th>\n",
       "      <th>white_castled</th>\n",
       "      <th>black_castled</th>\n",
       "      <th>white_takes_count</th>\n",
       "      <th>black_takes_count</th>\n",
       "      <th>winner</th>\n",
       "      <th>predicted</th>\n",
       "    </tr>\n",
       "  </thead>\n",
       "  <tbody>\n",
       "    <tr>\n",
       "      <td>9130</td>\n",
       "      <td>1</td>\n",
       "      <td>0</td>\n",
       "      <td>0</td>\n",
       "      <td>0</td>\n",
       "      <td>1483</td>\n",
       "      <td>2005</td>\n",
       "      <td>25</td>\n",
       "      <td>0</td>\n",
       "      <td>-522</td>\n",
       "      <td>1</td>\n",
       "      <td>1</td>\n",
       "      <td>15</td>\n",
       "      <td>12</td>\n",
       "      <td>draw</td>\n",
       "      <td>white</td>\n",
       "    </tr>\n",
       "    <tr>\n",
       "      <td>13286</td>\n",
       "      <td>1</td>\n",
       "      <td>0</td>\n",
       "      <td>0</td>\n",
       "      <td>0</td>\n",
       "      <td>1308</td>\n",
       "      <td>1448</td>\n",
       "      <td>10</td>\n",
       "      <td>0</td>\n",
       "      <td>-140</td>\n",
       "      <td>1</td>\n",
       "      <td>1</td>\n",
       "      <td>15</td>\n",
       "      <td>14</td>\n",
       "      <td>draw</td>\n",
       "      <td>white</td>\n",
       "    </tr>\n",
       "    <tr>\n",
       "      <td>13622</td>\n",
       "      <td>1</td>\n",
       "      <td>0</td>\n",
       "      <td>0</td>\n",
       "      <td>0</td>\n",
       "      <td>1941</td>\n",
       "      <td>1775</td>\n",
       "      <td>10</td>\n",
       "      <td>0</td>\n",
       "      <td>166</td>\n",
       "      <td>1</td>\n",
       "      <td>1</td>\n",
       "      <td>14</td>\n",
       "      <td>15</td>\n",
       "      <td>draw</td>\n",
       "      <td>black</td>\n",
       "    </tr>\n",
       "    <tr>\n",
       "      <td>15909</td>\n",
       "      <td>1</td>\n",
       "      <td>0</td>\n",
       "      <td>0</td>\n",
       "      <td>0</td>\n",
       "      <td>1801</td>\n",
       "      <td>1858</td>\n",
       "      <td>10</td>\n",
       "      <td>0</td>\n",
       "      <td>-57</td>\n",
       "      <td>1</td>\n",
       "      <td>1</td>\n",
       "      <td>15</td>\n",
       "      <td>14</td>\n",
       "      <td>draw</td>\n",
       "      <td>white</td>\n",
       "    </tr>\n",
       "    <tr>\n",
       "      <td>16845</td>\n",
       "      <td>1</td>\n",
       "      <td>0</td>\n",
       "      <td>0</td>\n",
       "      <td>0</td>\n",
       "      <td>1466</td>\n",
       "      <td>1583</td>\n",
       "      <td>10</td>\n",
       "      <td>0</td>\n",
       "      <td>-117</td>\n",
       "      <td>1</td>\n",
       "      <td>1</td>\n",
       "      <td>15</td>\n",
       "      <td>12</td>\n",
       "      <td>draw</td>\n",
       "      <td>white</td>\n",
       "    </tr>\n",
       "    <tr>\n",
       "      <td>18402</td>\n",
       "      <td>1</td>\n",
       "      <td>0</td>\n",
       "      <td>0</td>\n",
       "      <td>0</td>\n",
       "      <td>1648</td>\n",
       "      <td>1785</td>\n",
       "      <td>10</td>\n",
       "      <td>0</td>\n",
       "      <td>-137</td>\n",
       "      <td>1</td>\n",
       "      <td>1</td>\n",
       "      <td>13</td>\n",
       "      <td>15</td>\n",
       "      <td>draw</td>\n",
       "      <td>black</td>\n",
       "    </tr>\n",
       "    <tr>\n",
       "      <td>18447</td>\n",
       "      <td>1</td>\n",
       "      <td>0</td>\n",
       "      <td>0</td>\n",
       "      <td>0</td>\n",
       "      <td>1554</td>\n",
       "      <td>1651</td>\n",
       "      <td>10</td>\n",
       "      <td>0</td>\n",
       "      <td>-97</td>\n",
       "      <td>1</td>\n",
       "      <td>1</td>\n",
       "      <td>11</td>\n",
       "      <td>15</td>\n",
       "      <td>draw</td>\n",
       "      <td>black</td>\n",
       "    </tr>\n",
       "    <tr>\n",
       "      <td>19825</td>\n",
       "      <td>1</td>\n",
       "      <td>0</td>\n",
       "      <td>0</td>\n",
       "      <td>0</td>\n",
       "      <td>1500</td>\n",
       "      <td>1500</td>\n",
       "      <td>8</td>\n",
       "      <td>0</td>\n",
       "      <td>0</td>\n",
       "      <td>1</td>\n",
       "      <td>1</td>\n",
       "      <td>10</td>\n",
       "      <td>15</td>\n",
       "      <td>draw</td>\n",
       "      <td>black</td>\n",
       "    </tr>\n",
       "    <tr>\n",
       "      <td>1220</td>\n",
       "      <td>1</td>\n",
       "      <td>0</td>\n",
       "      <td>0</td>\n",
       "      <td>0</td>\n",
       "      <td>1291</td>\n",
       "      <td>1166</td>\n",
       "      <td>10</td>\n",
       "      <td>0</td>\n",
       "      <td>125</td>\n",
       "      <td>1</td>\n",
       "      <td>1</td>\n",
       "      <td>9</td>\n",
       "      <td>15</td>\n",
       "      <td>draw</td>\n",
       "      <td>black</td>\n",
       "    </tr>\n",
       "    <tr>\n",
       "      <td>1812</td>\n",
       "      <td>1</td>\n",
       "      <td>0</td>\n",
       "      <td>0</td>\n",
       "      <td>0</td>\n",
       "      <td>1009</td>\n",
       "      <td>1038</td>\n",
       "      <td>8</td>\n",
       "      <td>0</td>\n",
       "      <td>-29</td>\n",
       "      <td>0</td>\n",
       "      <td>0</td>\n",
       "      <td>15</td>\n",
       "      <td>9</td>\n",
       "      <td>draw</td>\n",
       "      <td>white</td>\n",
       "    </tr>\n",
       "    <tr>\n",
       "      <td>2219</td>\n",
       "      <td>1</td>\n",
       "      <td>0</td>\n",
       "      <td>0</td>\n",
       "      <td>0</td>\n",
       "      <td>2225</td>\n",
       "      <td>2264</td>\n",
       "      <td>10</td>\n",
       "      <td>0</td>\n",
       "      <td>-39</td>\n",
       "      <td>1</td>\n",
       "      <td>1</td>\n",
       "      <td>12</td>\n",
       "      <td>15</td>\n",
       "      <td>draw</td>\n",
       "      <td>black</td>\n",
       "    </tr>\n",
       "    <tr>\n",
       "      <td>2279</td>\n",
       "      <td>1</td>\n",
       "      <td>0</td>\n",
       "      <td>0</td>\n",
       "      <td>0</td>\n",
       "      <td>1952</td>\n",
       "      <td>1907</td>\n",
       "      <td>10</td>\n",
       "      <td>0</td>\n",
       "      <td>45</td>\n",
       "      <td>1</td>\n",
       "      <td>1</td>\n",
       "      <td>15</td>\n",
       "      <td>13</td>\n",
       "      <td>draw</td>\n",
       "      <td>white</td>\n",
       "    </tr>\n",
       "    <tr>\n",
       "      <td>3720</td>\n",
       "      <td>1</td>\n",
       "      <td>0</td>\n",
       "      <td>0</td>\n",
       "      <td>0</td>\n",
       "      <td>1152</td>\n",
       "      <td>1162</td>\n",
       "      <td>10</td>\n",
       "      <td>0</td>\n",
       "      <td>-10</td>\n",
       "      <td>0</td>\n",
       "      <td>0</td>\n",
       "      <td>12</td>\n",
       "      <td>15</td>\n",
       "      <td>draw</td>\n",
       "      <td>black</td>\n",
       "    </tr>\n",
       "    <tr>\n",
       "      <td>8054</td>\n",
       "      <td>1</td>\n",
       "      <td>0</td>\n",
       "      <td>0</td>\n",
       "      <td>0</td>\n",
       "      <td>1964</td>\n",
       "      <td>1818</td>\n",
       "      <td>15</td>\n",
       "      <td>0</td>\n",
       "      <td>146</td>\n",
       "      <td>1</td>\n",
       "      <td>1</td>\n",
       "      <td>14</td>\n",
       "      <td>15</td>\n",
       "      <td>draw</td>\n",
       "      <td>black</td>\n",
       "    </tr>\n",
       "    <tr>\n",
       "      <td>8977</td>\n",
       "      <td>1</td>\n",
       "      <td>0</td>\n",
       "      <td>0</td>\n",
       "      <td>0</td>\n",
       "      <td>1727</td>\n",
       "      <td>1627</td>\n",
       "      <td>10</td>\n",
       "      <td>0</td>\n",
       "      <td>100</td>\n",
       "      <td>1</td>\n",
       "      <td>0</td>\n",
       "      <td>14</td>\n",
       "      <td>15</td>\n",
       "      <td>draw</td>\n",
       "      <td>black</td>\n",
       "    </tr>\n",
       "    <tr>\n",
       "      <td>9216</td>\n",
       "      <td>1</td>\n",
       "      <td>0</td>\n",
       "      <td>0</td>\n",
       "      <td>0</td>\n",
       "      <td>1978</td>\n",
       "      <td>2061</td>\n",
       "      <td>8</td>\n",
       "      <td>0</td>\n",
       "      <td>-83</td>\n",
       "      <td>1</td>\n",
       "      <td>1</td>\n",
       "      <td>14</td>\n",
       "      <td>14</td>\n",
       "      <td>draw</td>\n",
       "      <td>black</td>\n",
       "    </tr>\n",
       "  </tbody>\n",
       "</table>\n",
       "</div>"
      ],
      "text/plain": [
       "       victory_status_outoftime  victory_status_resign  victory_status_mate  \\\n",
       "9130                          1                      0                    0   \n",
       "13286                         1                      0                    0   \n",
       "13622                         1                      0                    0   \n",
       "15909                         1                      0                    0   \n",
       "16845                         1                      0                    0   \n",
       "18402                         1                      0                    0   \n",
       "18447                         1                      0                    0   \n",
       "19825                         1                      0                    0   \n",
       "1220                          1                      0                    0   \n",
       "1812                          1                      0                    0   \n",
       "2219                          1                      0                    0   \n",
       "2279                          1                      0                    0   \n",
       "3720                          1                      0                    0   \n",
       "8054                          1                      0                    0   \n",
       "8977                          1                      0                    0   \n",
       "9216                          1                      0                    0   \n",
       "\n",
       "       victory_status_draw  white_rating  black_rating  minutes  incr_seconds  \\\n",
       "9130                     0          1483          2005       25             0   \n",
       "13286                    0          1308          1448       10             0   \n",
       "13622                    0          1941          1775       10             0   \n",
       "15909                    0          1801          1858       10             0   \n",
       "16845                    0          1466          1583       10             0   \n",
       "18402                    0          1648          1785       10             0   \n",
       "18447                    0          1554          1651       10             0   \n",
       "19825                    0          1500          1500        8             0   \n",
       "1220                     0          1291          1166       10             0   \n",
       "1812                     0          1009          1038        8             0   \n",
       "2219                     0          2225          2264       10             0   \n",
       "2279                     0          1952          1907       10             0   \n",
       "3720                     0          1152          1162       10             0   \n",
       "8054                     0          1964          1818       15             0   \n",
       "8977                     0          1727          1627       10             0   \n",
       "9216                     0          1978          2061        8             0   \n",
       "\n",
       "       rating_difference  white_castled  black_castled  white_takes_count  \\\n",
       "9130                -522              1              1                 15   \n",
       "13286               -140              1              1                 15   \n",
       "13622                166              1              1                 14   \n",
       "15909                -57              1              1                 15   \n",
       "16845               -117              1              1                 15   \n",
       "18402               -137              1              1                 13   \n",
       "18447                -97              1              1                 11   \n",
       "19825                  0              1              1                 10   \n",
       "1220                 125              1              1                  9   \n",
       "1812                 -29              0              0                 15   \n",
       "2219                 -39              1              1                 12   \n",
       "2279                  45              1              1                 15   \n",
       "3720                 -10              0              0                 12   \n",
       "8054                 146              1              1                 14   \n",
       "8977                 100              1              0                 14   \n",
       "9216                 -83              1              1                 14   \n",
       "\n",
       "       black_takes_count winner predicted  \n",
       "9130                  12   draw     white  \n",
       "13286                 14   draw     white  \n",
       "13622                 15   draw     black  \n",
       "15909                 14   draw     white  \n",
       "16845                 12   draw     white  \n",
       "18402                 15   draw     black  \n",
       "18447                 15   draw     black  \n",
       "19825                 15   draw     black  \n",
       "1220                  15   draw     black  \n",
       "1812                   9   draw     white  \n",
       "2219                  15   draw     black  \n",
       "2279                  13   draw     white  \n",
       "3720                  15   draw     black  \n",
       "8054                  15   draw     black  \n",
       "8977                  15   draw     black  \n",
       "9216                  14   draw     black  "
      ]
     },
     "execution_count": 64,
     "metadata": {},
     "output_type": "execute_result"
    }
   ],
   "source": [
    "error[error['winner'] == 'draw']"
   ]
  },
  {
   "cell_type": "markdown",
   "metadata": {},
   "source": [
    "Erros foram cometidos em:\n",
    "\n",
    "- ratings absolutos (brancas e pretas) entre 1200 e 1800\n",
    "- alguns empates foram preditos incorretamente"
   ]
  },
  {
   "cell_type": "markdown",
   "metadata": {},
   "source": [
    "## Seleção de Variaveis"
   ]
  },
  {
   "cell_type": "code",
   "execution_count": 65,
   "metadata": {},
   "outputs": [
    {
     "name": "stdout",
     "output_type": "stream",
     "text": [
      "Melhor Variavel rating_difference - Avg. Prec: 0.5663% - Avg. AUC: 0.5875%\n",
      "\n",
      "['rating_difference']\n",
      "\n",
      "Melhor Variavel victory_status_draw - Avg. Prec: 0.6316% - Avg. AUC: 0.6319%\n",
      "\n",
      "['rating_difference', 'victory_status_draw']\n",
      "\n",
      "Melhor Variavel white_rating - Avg. Prec: 0.6490% - Avg. AUC: 0.6482%\n",
      "\n",
      "['rating_difference', 'victory_status_draw', 'white_rating']\n",
      "\n",
      "Melhor Variavel black_takes_count - Avg. Prec: 0.6688% - Avg. AUC: 0.6684%\n",
      "\n",
      "['rating_difference', 'victory_status_draw', 'white_rating', 'black_takes_count']\n",
      "\n",
      "Melhor Variavel white_takes_count - Avg. Prec: 0.8185% - Avg. AUC: 0.8180%\n",
      "\n",
      "['rating_difference', 'victory_status_draw', 'white_rating', 'black_takes_count', 'white_takes_count']\n",
      "\n",
      "Melhor Variavel incr_seconds - Avg. Prec: 0.8249% - Avg. AUC: 0.8244%\n",
      "\n",
      "['rating_difference', 'victory_status_draw', 'white_rating', 'black_takes_count', 'white_takes_count', 'incr_seconds']\n",
      "\n",
      "Melhor Variavel victory_status_resign - Avg. Prec: 0.8270% - Avg. AUC: 0.8265%\n",
      "\n",
      "['rating_difference', 'victory_status_draw', 'white_rating', 'black_takes_count', 'white_takes_count', 'incr_seconds', 'victory_status_resign']\n",
      "\n",
      "Melhor Variavel white_castled - Avg. Prec: 0.8286% - Avg. AUC: 0.8281%\n",
      "\n",
      "['rating_difference', 'victory_status_draw', 'white_rating', 'black_takes_count', 'white_takes_count', 'incr_seconds', 'victory_status_resign', 'white_castled']\n",
      "\n",
      "Melhor Variavel victory_status_mate - Avg. Prec: 0.8304% - Avg. AUC: 0.8298%\n",
      "\n",
      "['rating_difference', 'victory_status_draw', 'white_rating', 'black_takes_count', 'white_takes_count', 'incr_seconds', 'victory_status_resign', 'white_castled', 'victory_status_mate']\n",
      "\n"
     ]
    }
   ],
   "source": [
    "import warnings\n",
    "warnings.filterwarnings('ignore')\n",
    "\n",
    "model = RandomForestClassifier(n_estimators=200, n_jobs=-1, random_state=0)\n",
    "\n",
    "accepted = []\n",
    "max_avg_weighted_precision = 0.0\n",
    "max_avg_weighted_auc = 0.0\n",
    "\n",
    "for step in range(20):\n",
    "    var_best_metrics = None\n",
    "    for var in X_train.columns:\n",
    "        if var in accepted:\n",
    "            continue\n",
    "        model.fit(X_train[accepted+[var]], y_train)\n",
    "        predicted = model.predict(X_valid[accepted+[var]])\n",
    "\n",
    "        results = precision_recall_fscore_support(y_valid, predicted)\n",
    "        support = results[3]\n",
    "        avg_prec = np.average(results[0], weights=support)\n",
    "        avg_auc = np.average(results[1], weights=support)\n",
    "        \n",
    "        if (avg_prec > max_avg_weighted_precision) & (avg_auc > max_avg_weighted_auc):\n",
    "            var_best_metrics = var\n",
    "            max_avg_weighted_precision = avg_prec\n",
    "            max_avg_weighted_auc = avg_auc\n",
    "            \n",
    "    if var_best_metrics is None:\n",
    "        break\n",
    "    accepted.append(var_best_metrics)\n",
    "    \n",
    "    print(\"Melhor Variavel {} - Avg. Prec: {:.4f}% - Avg. AUC: {:.4f}%\\n\".format(var_best_metrics, max_avg_weighted_precision, max_avg_weighted_auc))\n",
    "    print(accepted)\n",
    "    print()"
   ]
  },
  {
   "cell_type": "markdown",
   "metadata": {},
   "source": [
    "p: 0.8304% - auc: 0.8298% - ['rating_difference', 'victory_status_draw', 'white_rating', 'black_takes_count', 'white_takes_count', 'incr_seconds', 'victory_status_resign', 'white_castled', 'victory_status_mate']"
   ]
  }
 ],
 "metadata": {
  "kernelspec": {
   "display_name": "Python 3",
   "language": "python",
   "name": "python3"
  },
  "language_info": {
   "codemirror_mode": {
    "name": "ipython",
    "version": 3
   },
   "file_extension": ".py",
   "mimetype": "text/x-python",
   "name": "python",
   "nbconvert_exporter": "python",
   "pygments_lexer": "ipython3",
   "version": "3.7.4"
  }
 },
 "nbformat": 4,
 "nbformat_minor": 2
}
