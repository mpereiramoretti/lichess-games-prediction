{
 "cells": [
  {
   "cell_type": "markdown",
   "metadata": {},
   "source": [
    "# The problem"
   ]
  },
  {
   "cell_type": "markdown",
   "metadata": {},
   "source": [
    "Based on this dataset with 20,000 chess matches collected from Lichess (games taken of users from the top ~100 teams on _lichess.org_ from 2013 to 2017) the objective is to create a model that predicts the result of a match, given the parameters of the game, before it starts (available at https://www.kaggle.com/datasnaek/chess)."
   ]
  },
  {
   "cell_type": "code",
   "execution_count": 1,
   "metadata": {},
   "outputs": [
    {
     "name": "stdout",
     "output_type": "stream",
     "text": [
      "Populating the interactive namespace from numpy and matplotlib\n"
     ]
    }
   ],
   "source": [
    "import pandas as pd\n",
    "import numpy as np\n",
    "%matplotlib inline\n",
    "%pylab inline\n",
    "\n",
    "pd.set_option('display.max_columns', 200)"
   ]
  },
  {
   "cell_type": "markdown",
   "metadata": {},
   "source": [
    "Importing the dataset:"
   ]
  },
  {
   "cell_type": "code",
   "execution_count": 2,
   "metadata": {},
   "outputs": [],
   "source": [
    "chess_games = pd.read_csv('games.csv', delimiter=',')"
   ]
  },
  {
   "cell_type": "code",
   "execution_count": 3,
   "metadata": {},
   "outputs": [
    {
     "data": {
      "text/html": [
       "<div>\n",
       "<style scoped>\n",
       "    .dataframe tbody tr th:only-of-type {\n",
       "        vertical-align: middle;\n",
       "    }\n",
       "\n",
       "    .dataframe tbody tr th {\n",
       "        vertical-align: top;\n",
       "    }\n",
       "\n",
       "    .dataframe thead th {\n",
       "        text-align: right;\n",
       "    }\n",
       "</style>\n",
       "<table border=\"1\" class=\"dataframe\">\n",
       "  <thead>\n",
       "    <tr style=\"text-align: right;\">\n",
       "      <th></th>\n",
       "      <th>id</th>\n",
       "      <th>rated</th>\n",
       "      <th>created_at</th>\n",
       "      <th>last_move_at</th>\n",
       "      <th>turns</th>\n",
       "      <th>victory_status</th>\n",
       "      <th>winner</th>\n",
       "      <th>increment_code</th>\n",
       "      <th>white_id</th>\n",
       "      <th>white_rating</th>\n",
       "      <th>black_id</th>\n",
       "      <th>black_rating</th>\n",
       "      <th>moves</th>\n",
       "      <th>opening_eco</th>\n",
       "      <th>opening_name</th>\n",
       "      <th>opening_ply</th>\n",
       "    </tr>\n",
       "  </thead>\n",
       "  <tbody>\n",
       "    <tr>\n",
       "      <td>0</td>\n",
       "      <td>TZJHLljE</td>\n",
       "      <td>False</td>\n",
       "      <td>1.504210e+12</td>\n",
       "      <td>1.504210e+12</td>\n",
       "      <td>13</td>\n",
       "      <td>outoftime</td>\n",
       "      <td>white</td>\n",
       "      <td>15+2</td>\n",
       "      <td>bourgris</td>\n",
       "      <td>1500</td>\n",
       "      <td>a-00</td>\n",
       "      <td>1191</td>\n",
       "      <td>d4 d5 c4 c6 cxd5 e6 dxe6 fxe6 Nf3 Bb4+ Nc3 Ba5...</td>\n",
       "      <td>D10</td>\n",
       "      <td>Slav Defense: Exchange Variation</td>\n",
       "      <td>5</td>\n",
       "    </tr>\n",
       "    <tr>\n",
       "      <td>1</td>\n",
       "      <td>l1NXvwaE</td>\n",
       "      <td>True</td>\n",
       "      <td>1.504130e+12</td>\n",
       "      <td>1.504130e+12</td>\n",
       "      <td>16</td>\n",
       "      <td>resign</td>\n",
       "      <td>black</td>\n",
       "      <td>5+10</td>\n",
       "      <td>a-00</td>\n",
       "      <td>1322</td>\n",
       "      <td>skinnerua</td>\n",
       "      <td>1261</td>\n",
       "      <td>d4 Nc6 e4 e5 f4 f6 dxe5 fxe5 fxe5 Nxe5 Qd4 Nc6...</td>\n",
       "      <td>B00</td>\n",
       "      <td>Nimzowitsch Defense: Kennedy Variation</td>\n",
       "      <td>4</td>\n",
       "    </tr>\n",
       "    <tr>\n",
       "      <td>2</td>\n",
       "      <td>mIICvQHh</td>\n",
       "      <td>True</td>\n",
       "      <td>1.504130e+12</td>\n",
       "      <td>1.504130e+12</td>\n",
       "      <td>61</td>\n",
       "      <td>mate</td>\n",
       "      <td>white</td>\n",
       "      <td>5+10</td>\n",
       "      <td>ischia</td>\n",
       "      <td>1496</td>\n",
       "      <td>a-00</td>\n",
       "      <td>1500</td>\n",
       "      <td>e4 e5 d3 d6 Be3 c6 Be2 b5 Nd2 a5 a4 c5 axb5 Nc...</td>\n",
       "      <td>C20</td>\n",
       "      <td>King's Pawn Game: Leonardis Variation</td>\n",
       "      <td>3</td>\n",
       "    </tr>\n",
       "    <tr>\n",
       "      <td>3</td>\n",
       "      <td>kWKvrqYL</td>\n",
       "      <td>True</td>\n",
       "      <td>1.504110e+12</td>\n",
       "      <td>1.504110e+12</td>\n",
       "      <td>61</td>\n",
       "      <td>mate</td>\n",
       "      <td>white</td>\n",
       "      <td>20+0</td>\n",
       "      <td>daniamurashov</td>\n",
       "      <td>1439</td>\n",
       "      <td>adivanov2009</td>\n",
       "      <td>1454</td>\n",
       "      <td>d4 d5 Nf3 Bf5 Nc3 Nf6 Bf4 Ng4 e3 Nc6 Be2 Qd7 O...</td>\n",
       "      <td>D02</td>\n",
       "      <td>Queen's Pawn Game: Zukertort Variation</td>\n",
       "      <td>3</td>\n",
       "    </tr>\n",
       "    <tr>\n",
       "      <td>4</td>\n",
       "      <td>9tXo1AUZ</td>\n",
       "      <td>True</td>\n",
       "      <td>1.504030e+12</td>\n",
       "      <td>1.504030e+12</td>\n",
       "      <td>95</td>\n",
       "      <td>mate</td>\n",
       "      <td>white</td>\n",
       "      <td>30+3</td>\n",
       "      <td>nik221107</td>\n",
       "      <td>1523</td>\n",
       "      <td>adivanov2009</td>\n",
       "      <td>1469</td>\n",
       "      <td>e4 e5 Nf3 d6 d4 Nc6 d5 Nb4 a3 Na6 Nc3 Be7 b4 N...</td>\n",
       "      <td>C41</td>\n",
       "      <td>Philidor Defense</td>\n",
       "      <td>5</td>\n",
       "    </tr>\n",
       "  </tbody>\n",
       "</table>\n",
       "</div>"
      ],
      "text/plain": [
       "         id  rated    created_at  last_move_at  turns victory_status winner  \\\n",
       "0  TZJHLljE  False  1.504210e+12  1.504210e+12     13      outoftime  white   \n",
       "1  l1NXvwaE   True  1.504130e+12  1.504130e+12     16         resign  black   \n",
       "2  mIICvQHh   True  1.504130e+12  1.504130e+12     61           mate  white   \n",
       "3  kWKvrqYL   True  1.504110e+12  1.504110e+12     61           mate  white   \n",
       "4  9tXo1AUZ   True  1.504030e+12  1.504030e+12     95           mate  white   \n",
       "\n",
       "  increment_code       white_id  white_rating      black_id  black_rating  \\\n",
       "0           15+2       bourgris          1500          a-00          1191   \n",
       "1           5+10           a-00          1322     skinnerua          1261   \n",
       "2           5+10         ischia          1496          a-00          1500   \n",
       "3           20+0  daniamurashov          1439  adivanov2009          1454   \n",
       "4           30+3      nik221107          1523  adivanov2009          1469   \n",
       "\n",
       "                                               moves opening_eco  \\\n",
       "0  d4 d5 c4 c6 cxd5 e6 dxe6 fxe6 Nf3 Bb4+ Nc3 Ba5...         D10   \n",
       "1  d4 Nc6 e4 e5 f4 f6 dxe5 fxe5 fxe5 Nxe5 Qd4 Nc6...         B00   \n",
       "2  e4 e5 d3 d6 Be3 c6 Be2 b5 Nd2 a5 a4 c5 axb5 Nc...         C20   \n",
       "3  d4 d5 Nf3 Bf5 Nc3 Nf6 Bf4 Ng4 e3 Nc6 Be2 Qd7 O...         D02   \n",
       "4  e4 e5 Nf3 d6 d4 Nc6 d5 Nb4 a3 Na6 Nc3 Be7 b4 N...         C41   \n",
       "\n",
       "                             opening_name  opening_ply  \n",
       "0        Slav Defense: Exchange Variation            5  \n",
       "1  Nimzowitsch Defense: Kennedy Variation            4  \n",
       "2   King's Pawn Game: Leonardis Variation            3  \n",
       "3  Queen's Pawn Game: Zukertort Variation            3  \n",
       "4                        Philidor Defense            5  "
      ]
     },
     "execution_count": 3,
     "metadata": {},
     "output_type": "execute_result"
    }
   ],
   "source": [
    "chess_games.head()"
   ]
  },
  {
   "cell_type": "markdown",
   "metadata": {},
   "source": [
    "## Exploring the data"
   ]
  },
  {
   "cell_type": "markdown",
   "metadata": {},
   "source": [
    "Let's explore the fields in order to suggest variables to create the model."
   ]
  },
  {
   "cell_type": "code",
   "execution_count": 4,
   "metadata": {},
   "outputs": [
    {
     "name": "stdout",
     "output_type": "stream",
     "text": [
      "<class 'pandas.core.frame.DataFrame'>\n",
      "RangeIndex: 20058 entries, 0 to 20057\n",
      "Data columns (total 16 columns):\n",
      "id                20058 non-null object\n",
      "rated             20058 non-null bool\n",
      "created_at        20058 non-null float64\n",
      "last_move_at      20058 non-null float64\n",
      "turns             20058 non-null int64\n",
      "victory_status    20058 non-null object\n",
      "winner            20058 non-null object\n",
      "increment_code    20058 non-null object\n",
      "white_id          20058 non-null object\n",
      "white_rating      20058 non-null int64\n",
      "black_id          20058 non-null object\n",
      "black_rating      20058 non-null int64\n",
      "moves             20058 non-null object\n",
      "opening_eco       20058 non-null object\n",
      "opening_name      20058 non-null object\n",
      "opening_ply       20058 non-null int64\n",
      "dtypes: bool(1), float64(2), int64(4), object(9)\n",
      "memory usage: 2.3+ MB\n"
     ]
    }
   ],
   "source": [
    "chess_games.info()"
   ]
  },
  {
   "cell_type": "code",
   "execution_count": 5,
   "metadata": {},
   "outputs": [
    {
     "data": {
      "text/plain": [
       "id                0.0\n",
       "rated             0.0\n",
       "created_at        0.0\n",
       "last_move_at      0.0\n",
       "turns             0.0\n",
       "victory_status    0.0\n",
       "winner            0.0\n",
       "increment_code    0.0\n",
       "white_id          0.0\n",
       "white_rating      0.0\n",
       "black_id          0.0\n",
       "black_rating      0.0\n",
       "moves             0.0\n",
       "opening_eco       0.0\n",
       "opening_name      0.0\n",
       "opening_ply       0.0\n",
       "dtype: float64"
      ]
     },
     "execution_count": 5,
     "metadata": {},
     "output_type": "execute_result"
    }
   ],
   "source": [
    "chess_games.isnull().mean()"
   ]
  },
  {
   "cell_type": "markdown",
   "metadata": {},
   "source": [
    "We don't have any missing values in the columns."
   ]
  },
  {
   "cell_type": "markdown",
   "metadata": {},
   "source": [
    "### Rated"
   ]
  },
  {
   "cell_type": "code",
   "execution_count": 6,
   "metadata": {},
   "outputs": [
    {
     "data": {
      "text/plain": [
       "True     16155\n",
       "False     3903\n",
       "Name: rated, dtype: int64"
      ]
     },
     "execution_count": 6,
     "metadata": {},
     "output_type": "execute_result"
    }
   ],
   "source": [
    "chess_games['rated'].value_counts()"
   ]
  },
  {
   "cell_type": "markdown",
   "metadata": {},
   "source": [
    "We have more rated games than not."
   ]
  },
  {
   "cell_type": "markdown",
   "metadata": {},
   "source": [
    "### Date of Creation"
   ]
  },
  {
   "cell_type": "code",
   "execution_count": 7,
   "metadata": {},
   "outputs": [
    {
     "data": {
      "text/plain": [
       "count                          20058\n",
       "unique                         13151\n",
       "top              2017-08-31 20:06:40\n",
       "freq                              45\n",
       "first     2013-08-17 20:33:53.173000\n",
       "last      2017-09-04 02:45:43.790000\n",
       "Name: created_at, dtype: object"
      ]
     },
     "execution_count": 7,
     "metadata": {},
     "output_type": "execute_result"
    }
   ],
   "source": [
    "pd.to_datetime(chess_games['created_at'], unit='ms').describe()"
   ]
  },
  {
   "cell_type": "markdown",
   "metadata": {},
   "source": [
    "The games were played between 08/2013 and 09/2017."
   ]
  },
  {
   "cell_type": "markdown",
   "metadata": {},
   "source": [
    "### Game delay and Time label"
   ]
  },
  {
   "cell_type": "code",
   "execution_count": 8,
   "metadata": {},
   "outputs": [
    {
     "data": {
      "text/plain": [
       "count     20058.000000\n",
       "mean        869.707050\n",
       "std        4814.222091\n",
       "min           0.000000\n",
       "25%           0.000000\n",
       "50%         240.612000\n",
       "75%         793.171250\n",
       "max      605844.701000\n",
       "dtype: float64"
      ]
     },
     "execution_count": 8,
     "metadata": {},
     "output_type": "execute_result"
    }
   ],
   "source": [
    "games_delay_in_sec = (chess_games['last_move_at'] - chess_games['created_at']) / 1000\n",
    "games_delay_in_sec.describe()"
   ]
  },
  {
   "cell_type": "markdown",
   "metadata": {},
   "source": [
    "The delays are the duration of the matches. From 0 (probably the last_move_at field was not registered) until 605844.7 seconds =~ 7 days, which may probably be an incorrect value or a match of correspondence chess, a possible variety of game at _lichess.org_."
   ]
  },
  {
   "cell_type": "markdown",
   "metadata": {},
   "source": [
    "### Turns"
   ]
  },
  {
   "cell_type": "code",
   "execution_count": 9,
   "metadata": {},
   "outputs": [
    {
     "data": {
      "text/plain": [
       "count    20058.000000\n",
       "mean        60.465999\n",
       "std         33.570585\n",
       "min          1.000000\n",
       "25%         37.000000\n",
       "50%         55.000000\n",
       "75%         79.000000\n",
       "max        349.000000\n",
       "Name: turns, dtype: float64"
      ]
     },
     "execution_count": 9,
     "metadata": {},
     "output_type": "execute_result"
    }
   ],
   "source": [
    "chess_games['turns'].describe()"
   ]
  },
  {
   "cell_type": "markdown",
   "metadata": {},
   "source": [
    "It's important to note that 1 turn is a white's move OR a black's move."
   ]
  },
  {
   "cell_type": "markdown",
   "metadata": {},
   "source": [
    "### Winner"
   ]
  },
  {
   "cell_type": "code",
   "execution_count": 10,
   "metadata": {},
   "outputs": [
    {
     "data": {
      "text/plain": [
       "white    10001\n",
       "black     9107\n",
       "draw       950\n",
       "Name: winner, dtype: int64"
      ]
     },
     "execution_count": 10,
     "metadata": {},
     "output_type": "execute_result"
    }
   ],
   "source": [
    "chess_games['winner'].value_counts()"
   ]
  },
  {
   "cell_type": "markdown",
   "metadata": {},
   "source": [
    "### Victory Status"
   ]
  },
  {
   "cell_type": "code",
   "execution_count": 11,
   "metadata": {},
   "outputs": [
    {
     "data": {
      "text/plain": [
       "resign       11147\n",
       "mate          6325\n",
       "outoftime     1680\n",
       "draw           906\n",
       "Name: victory_status, dtype: int64"
      ]
     },
     "execution_count": 11,
     "metadata": {},
     "output_type": "execute_result"
    }
   ],
   "source": [
    "chess_games['victory_status'].value_counts()"
   ]
  },
  {
   "cell_type": "markdown",
   "metadata": {},
   "source": [
    "We see that both 'winner' and 'victory_status' have 'draw' fields, but with different values.\n",
    "\n",
    "Let's analyse 'victory_status' distribution:"
   ]
  },
  {
   "cell_type": "code",
   "execution_count": 12,
   "metadata": {},
   "outputs": [
    {
     "name": "stdout",
     "output_type": "stream",
     "text": [
      "outoftime\n",
      "(44, 16)\n",
      "\n",
      "resign\n",
      "(0, 16)\n",
      "\n",
      "mate\n",
      "(0, 16)\n",
      "\n",
      "draw\n",
      "(906, 16)\n",
      "\n"
     ]
    }
   ],
   "source": [
    "for vic_status in chess_games['victory_status'].unique():\n",
    "    print(vic_status)\n",
    "    print(chess_games[(chess_games['victory_status'] == vic_status) & (chess_games['winner'] == 'draw')].shape)\n",
    "    print()"
   ]
  },
  {
   "cell_type": "markdown",
   "metadata": {},
   "source": [
    "So there are matches that ended by 'outoftime' with a 'draw' result. This happens at insufficient material positions."
   ]
  },
  {
   "cell_type": "markdown",
   "metadata": {},
   "source": [
    "### Increment Code"
   ]
  },
  {
   "cell_type": "markdown",
   "metadata": {},
   "source": [
    "These are the time controls of the matches."
   ]
  },
  {
   "cell_type": "code",
   "execution_count": 13,
   "metadata": {},
   "outputs": [
    {
     "data": {
      "text/plain": [
       "10+0     7721\n",
       "15+0     1311\n",
       "15+15     850\n",
       "5+5       738\n",
       "5+8       697\n",
       "         ... \n",
       "16+1        1\n",
       "8+25        1\n",
       "0+40        1\n",
       "5+13        1\n",
       "60+40       1\n",
       "Name: increment_code, Length: 400, dtype: int64"
      ]
     },
     "execution_count": 13,
     "metadata": {},
     "output_type": "execute_result"
    }
   ],
   "source": [
    "chess_games['increment_code'].value_counts()"
   ]
  },
  {
   "cell_type": "code",
   "execution_count": 14,
   "metadata": {},
   "outputs": [
    {
     "data": {
      "text/plain": [
       "True    20058\n",
       "Name: increment_code, dtype: int64"
      ]
     },
     "execution_count": 14,
     "metadata": {},
     "output_type": "execute_result"
    }
   ],
   "source": [
    "chess_games['increment_code'].str.match(pat='\\d+[+]\\d+').value_counts()"
   ]
  },
  {
   "cell_type": "markdown",
   "metadata": {},
   "source": [
    "It seems like every entry in the field time control is of the form minutes+increment_seconds, we confirm that in the following command."
   ]
  },
  {
   "cell_type": "code",
   "execution_count": 15,
   "metadata": {},
   "outputs": [
    {
     "data": {
      "text/plain": [
       "0        45\n",
       "1        31\n",
       "2        55\n",
       "3        57\n",
       "4        65\n",
       "5      1795\n",
       "6       176\n",
       "7       661\n",
       "8       924\n",
       "9       261\n",
       "10     9456\n",
       "11       98\n",
       "12      225\n",
       "13       74\n",
       "14       70\n",
       "15     3382\n",
       "16       49\n",
       "17       40\n",
       "18       26\n",
       "19       28\n",
       "20      936\n",
       "21        1\n",
       "25      322\n",
       "29        2\n",
       "30      746\n",
       "35       26\n",
       "40       37\n",
       "45      158\n",
       "60      103\n",
       "90       26\n",
       "120      16\n",
       "150      13\n",
       "180     154\n",
       "Name: increment_code, dtype: int64"
      ]
     },
     "execution_count": 15,
     "metadata": {},
     "output_type": "execute_result"
    }
   ],
   "source": [
    "minutes = chess_games['increment_code'].str.split('+').map(lambda time_control: time_control[0], na_action=None)\n",
    "minutes = minutes.astype(int).value_counts().sort_index()\n",
    "minutes"
   ]
  },
  {
   "cell_type": "markdown",
   "metadata": {},
   "source": [
    "The greatest minutes field value is 180 min."
   ]
  },
  {
   "cell_type": "code",
   "execution_count": 16,
   "metadata": {},
   "outputs": [
    {
     "data": {
      "text/plain": [
       "0      11098\n",
       "1        234\n",
       "2        657\n",
       "3        456\n",
       "4        168\n",
       "5       2068\n",
       "6        185\n",
       "7        181\n",
       "8       1220\n",
       "9        112\n",
       "10      1401\n",
       "11        28\n",
       "12        87\n",
       "13        16\n",
       "14        59\n",
       "15      1167\n",
       "16        26\n",
       "17        30\n",
       "18        11\n",
       "19         7\n",
       "20       125\n",
       "21         6\n",
       "25        62\n",
       "30       297\n",
       "35         7\n",
       "40        41\n",
       "45       107\n",
       "60       105\n",
       "90         2\n",
       "120        4\n",
       "150        2\n",
       "180       89\n",
       "Name: increment_code, dtype: int64"
      ]
     },
     "execution_count": 16,
     "metadata": {},
     "output_type": "execute_result"
    }
   ],
   "source": [
    "incr_seconds = chess_games['increment_code'].str.split('+').map(lambda time_control: time_control[1], na_action=None)\n",
    "incr_seconds = incr_seconds.astype(int).value_counts().sort_index()\n",
    "incr_seconds"
   ]
  },
  {
   "cell_type": "markdown",
   "metadata": {},
   "source": [
    "The max increment is 180 seconds per move (1 minute 30 seconds)."
   ]
  },
  {
   "cell_type": "markdown",
   "metadata": {},
   "source": [
    "### Ratings"
   ]
  },
  {
   "cell_type": "markdown",
   "metadata": {},
   "source": [
    "For White:"
   ]
  },
  {
   "cell_type": "code",
   "execution_count": 17,
   "metadata": {},
   "outputs": [
    {
     "data": {
      "text/plain": [
       "count    20058.000000\n",
       "mean      1596.631868\n",
       "std        291.253376\n",
       "min        784.000000\n",
       "25%       1398.000000\n",
       "50%       1567.000000\n",
       "75%       1793.000000\n",
       "max       2700.000000\n",
       "Name: white_rating, dtype: float64"
      ]
     },
     "execution_count": 17,
     "metadata": {},
     "output_type": "execute_result"
    }
   ],
   "source": [
    "chess_games['white_rating'].describe()"
   ]
  },
  {
   "cell_type": "markdown",
   "metadata": {},
   "source": [
    "For Black:"
   ]
  },
  {
   "cell_type": "code",
   "execution_count": 18,
   "metadata": {},
   "outputs": [
    {
     "data": {
      "text/plain": [
       "count    20058.000000\n",
       "mean      1588.831987\n",
       "std        291.036126\n",
       "min        789.000000\n",
       "25%       1391.000000\n",
       "50%       1562.000000\n",
       "75%       1784.000000\n",
       "max       2723.000000\n",
       "Name: black_rating, dtype: float64"
      ]
     },
     "execution_count": 18,
     "metadata": {},
     "output_type": "execute_result"
    }
   ],
   "source": [
    "chess_games['black_rating'].describe()"
   ]
  },
  {
   "cell_type": "markdown",
   "metadata": {},
   "source": [
    "Both vary between [291, ~2700]."
   ]
  },
  {
   "cell_type": "markdown",
   "metadata": {},
   "source": [
    "### Opening ECO"
   ]
  },
  {
   "cell_type": "code",
   "execution_count": 19,
   "metadata": {},
   "outputs": [
    {
     "data": {
      "text/plain": [
       "A00    1007\n",
       "C00     844\n",
       "D00     739\n",
       "B01     716\n",
       "C41     691\n",
       "       ... \n",
       "D82       1\n",
       "C75       1\n",
       "E63       1\n",
       "D58       1\n",
       "E35       1\n",
       "Name: opening_eco, Length: 365, dtype: int64"
      ]
     },
     "execution_count": 19,
     "metadata": {},
     "output_type": "execute_result"
    }
   ],
   "source": [
    "chess_games['opening_eco'].value_counts()"
   ]
  },
  {
   "cell_type": "markdown",
   "metadata": {},
   "source": [
    "## New variables"
   ]
  },
  {
   "cell_type": "markdown",
   "metadata": {},
   "source": [
    "### Duration of the match"
   ]
  },
  {
   "cell_type": "code",
   "execution_count": 20,
   "metadata": {},
   "outputs": [],
   "source": [
    "chess_games['duration_in_seconds'] = games_delay_in_sec.copy()"
   ]
  },
  {
   "cell_type": "markdown",
   "metadata": {},
   "source": [
    "### One-Hot-Encoding of victory status"
   ]
  },
  {
   "cell_type": "code",
   "execution_count": 21,
   "metadata": {},
   "outputs": [],
   "source": [
    "from category_encoders import OneHotEncoder"
   ]
  },
  {
   "cell_type": "code",
   "execution_count": 22,
   "metadata": {},
   "outputs": [],
   "source": [
    "ohe_victory_status = OneHotEncoder(cols=['victory_status'], use_cat_names=True, drop_invariant=True)\n",
    "chess_games = ohe_victory_status.fit_transform(chess_games)"
   ]
  },
  {
   "cell_type": "markdown",
   "metadata": {},
   "source": [
    "### Time control: Minutes and Seconds"
   ]
  },
  {
   "cell_type": "code",
   "execution_count": 23,
   "metadata": {},
   "outputs": [],
   "source": [
    "minutes = chess_games['increment_code'].str.split('+').map(lambda time_control: time_control[0], na_action=None).astype(int)\n",
    "incr_seconds = chess_games['increment_code'].str.split('+').map(lambda time_control: time_control[1], na_action=None).astype(int)\n",
    "\n",
    "chess_games['minutes'] = minutes.copy()\n",
    "chess_games['incr_seconds'] = incr_seconds.copy()"
   ]
  },
  {
   "cell_type": "code",
   "execution_count": 24,
   "metadata": {},
   "outputs": [],
   "source": [
    "chess_games = chess_games.drop(columns=['increment_code'], axis=1)"
   ]
  },
  {
   "cell_type": "markdown",
   "metadata": {},
   "source": [
    "### Date of Creation and Last Move At (as dates)"
   ]
  },
  {
   "cell_type": "code",
   "execution_count": 25,
   "metadata": {},
   "outputs": [],
   "source": [
    "chess_games['created_at'] = pd.to_datetime(chess_games['created_at'], unit='ms')\n",
    "chess_games['last_move_at'] = pd.to_datetime(chess_games['last_move_at'], unit='ms')"
   ]
  },
  {
   "cell_type": "markdown",
   "metadata": {},
   "source": [
    "### Rating difference"
   ]
  },
  {
   "cell_type": "markdown",
   "metadata": {},
   "source": [
    "One other variable that seems to be predictive is the rating difference between the players."
   ]
  },
  {
   "cell_type": "code",
   "execution_count": 26,
   "metadata": {},
   "outputs": [],
   "source": [
    "chess_games['rating_difference'] = chess_games['white_rating'] - chess_games['black_rating']"
   ]
  },
  {
   "cell_type": "code",
   "execution_count": 27,
   "metadata": {},
   "outputs": [
    {
     "data": {
      "text/plain": [
       "7.799880346993718"
      ]
     },
     "execution_count": 27,
     "metadata": {},
     "output_type": "execute_result"
    }
   ],
   "source": [
    "chess_games['rating_difference'].mean()"
   ]
  },
  {
   "cell_type": "markdown",
   "metadata": {},
   "source": [
    "## Clean Data"
   ]
  },
  {
   "cell_type": "markdown",
   "metadata": {},
   "source": [
    "Let's clean matches that have a non convenient **number of turns**."
   ]
  },
  {
   "cell_type": "markdown",
   "metadata": {},
   "source": [
    "There are matches with until 3 turns, which are not useful for result predictions, since no match can have a certain result in 3 turns. Let's see how many they are."
   ]
  },
  {
   "cell_type": "code",
   "execution_count": 28,
   "metadata": {},
   "outputs": [
    {
     "data": {
      "text/plain": [
       "(290, 22)"
      ]
     },
     "execution_count": 28,
     "metadata": {},
     "output_type": "execute_result"
    }
   ],
   "source": [
    "chess_games[chess_games['turns'] <= 3].shape"
   ]
  },
  {
   "cell_type": "code",
   "execution_count": 29,
   "metadata": {},
   "outputs": [],
   "source": [
    "chess_games = chess_games[chess_games['turns'] > 3]"
   ]
  },
  {
   "cell_type": "markdown",
   "metadata": {},
   "source": [
    "Now, let's plot the distribution of **duration in seconds** for the dataset."
   ]
  },
  {
   "cell_type": "markdown",
   "metadata": {},
   "source": [
    "We define a maximum threshold for the delay of the matches (in hours).\n",
    "\n",
    "It's based on the maximum number of minutes, max of increment seconds by move and the mean quantity of moves in a match of the dataset.\n",
    "\n",
    "It supposes all the time is consumed in the match."
   ]
  },
  {
   "cell_type": "code",
   "execution_count": 30,
   "metadata": {},
   "outputs": [
    {
     "data": {
      "text/plain": [
       "6.066010724403076"
      ]
     },
     "execution_count": 30,
     "metadata": {},
     "output_type": "execute_result"
    }
   ],
   "source": [
    "max_minutes = chess_games['minutes'].max()\n",
    "max_incr_seconds = chess_games['incr_seconds'].max()\n",
    "mean_moves = chess_games['turns'].mean()\n",
    "\n",
    "duration_threshold_in_hours = (max_minutes + max_incr_seconds / 60 * mean_moves) / 60\n",
    "duration_threshold_in_hours"
   ]
  },
  {
   "cell_type": "markdown",
   "metadata": {},
   "source": [
    "Let's separate the matches that, theoretically, take more than 6 hours to finish."
   ]
  },
  {
   "cell_type": "code",
   "execution_count": 31,
   "metadata": {},
   "outputs": [
    {
     "data": {
      "text/plain": [
       "True     19766\n",
       "False        2\n",
       "Name: duration_in_seconds, dtype: int64"
      ]
     },
     "execution_count": 31,
     "metadata": {},
     "output_type": "execute_result"
    }
   ],
   "source": [
    "(chess_games['duration_in_seconds'] < duration_threshold_in_hours * 3600).value_counts()"
   ]
  },
  {
   "cell_type": "code",
   "execution_count": 32,
   "metadata": {},
   "outputs": [],
   "source": [
    "chess_games_invalid_duration = chess_games[chess_games['duration_in_seconds'] >= duration_threshold_in_hours * 3600]\n",
    "chess_games = chess_games[chess_games['duration_in_seconds'] < duration_threshold_in_hours * 3600]"
   ]
  },
  {
   "cell_type": "code",
   "execution_count": 33,
   "metadata": {},
   "outputs": [
    {
     "data": {
      "text/plain": [
       "(19766, 22)"
      ]
     },
     "execution_count": 33,
     "metadata": {},
     "output_type": "execute_result"
    }
   ],
   "source": [
    "chess_games.shape"
   ]
  },
  {
   "cell_type": "code",
   "execution_count": 34,
   "metadata": {},
   "outputs": [
    {
     "data": {
      "text/plain": [
       "(2, 22)"
      ]
     },
     "execution_count": 34,
     "metadata": {},
     "output_type": "execute_result"
    }
   ],
   "source": [
    "chess_games_invalid_duration.shape"
   ]
  },
  {
   "cell_type": "markdown",
   "metadata": {},
   "source": [
    "Let's evaluate those matches with duration equal to 0."
   ]
  },
  {
   "cell_type": "code",
   "execution_count": 35,
   "metadata": {},
   "outputs": [
    {
     "data": {
      "text/plain": [
       "False    11294\n",
       "True      8472\n",
       "Name: duration_in_seconds, dtype: int64"
      ]
     },
     "execution_count": 35,
     "metadata": {},
     "output_type": "execute_result"
    }
   ],
   "source": [
    "(chess_games['duration_in_seconds'] == 0).value_counts()"
   ]
  },
  {
   "cell_type": "markdown",
   "metadata": {},
   "source": [
    "What are the results for these matches?"
   ]
  },
  {
   "cell_type": "code",
   "execution_count": 36,
   "metadata": {},
   "outputs": [
    {
     "data": {
      "text/plain": [
       "white    4207\n",
       "black    3910\n",
       "draw      355\n",
       "Name: winner, dtype: int64"
      ]
     },
     "execution_count": 36,
     "metadata": {},
     "output_type": "execute_result"
    }
   ],
   "source": [
    "duration0 = chess_games[chess_games['duration_in_seconds'] == 0]\n",
    "duration0['winner'].value_counts()"
   ]
  },
  {
   "cell_type": "markdown",
   "metadata": {},
   "source": [
    "So, there are not only draws (it would be possible to register as draws aborted matches, for example, we see that's not the case)."
   ]
  },
  {
   "cell_type": "code",
   "execution_count": 37,
   "metadata": {},
   "outputs": [
    {
     "data": {
      "image/png": "[encoded data removed]",
      "text/plain": [
       "<Figure size 432x288 with 1 Axes>"
      ]
     },
     "metadata": {
      "needs_background": "light"
     },
     "output_type": "display_data"
    }
   ],
   "source": [
    "pyplot.hist(x=chess_games['duration_in_seconds'], bins=100)\n",
    "pyplot.xlabel('Duration (in seconds)')\n",
    "pyplot.ylabel('Frequency')\n",
    "pyplot.title('Matches\\' Durations')\n",
    "pyplot.show()"
   ]
  },
  {
   "cell_type": "markdown",
   "metadata": {},
   "source": [
    "Let's separate the matches that duration_in_seconds == 0."
   ]
  },
  {
   "cell_type": "code",
   "execution_count": 39,
   "metadata": {},
   "outputs": [],
   "source": [
    "chess_games_invalid_duration = pd.concat([chess_games_invalid_duration, duration0], ignore_index=False)\n",
    "chess_games = chess_games[chess_games['duration_in_seconds'] > 0]"
   ]
  },
  {
   "cell_type": "code",
   "execution_count": 40,
   "metadata": {},
   "outputs": [
    {
     "data": {
      "text/plain": [
       "(11294, 22)"
      ]
     },
     "execution_count": 40,
     "metadata": {},
     "output_type": "execute_result"
    }
   ],
   "source": [
    "chess_games.shape"
   ]
  },
  {
   "cell_type": "code",
   "execution_count": 41,
   "metadata": {},
   "outputs": [
    {
     "data": {
      "text/plain": [
       "(8474, 22)"
      ]
     },
     "execution_count": 41,
     "metadata": {},
     "output_type": "execute_result"
    }
   ],
   "source": [
    "chess_games_invalid_duration.shape"
   ]
  },
  {
   "cell_type": "code",
   "execution_count": 42,
   "metadata": {},
   "outputs": [
    {
     "data": {
      "image/png": "[encoded data removed]",
      "text/plain": [
       "<Figure size 432x288 with 1 Axes>"
      ]
     },
     "metadata": {
      "needs_background": "light"
     },
     "output_type": "display_data"
    }
   ],
   "source": [
    "pyplot.hist(x=chess_games['duration_in_seconds'], bins=100)\n",
    "pyplot.xlabel('Duration (in seconds)')\n",
    "pyplot.ylabel('Frequency')\n",
    "pyplot.title('Matches\\' Durations')\n",
    "pyplot.show()"
   ]
  },
  {
   "cell_type": "markdown",
   "metadata": {},
   "source": [
    "For our first analysis, we'll consider the dataset 'chess_games' and 'chess_games_invalid_duration' (this one without the 'duration_in_seconds' fields)."
   ]
  },
  {
   "cell_type": "markdown",
   "metadata": {},
   "source": [
    "The peak at ~10000 s = ~2.7 hours, which is a plausible match duration."
   ]
  },
  {
   "cell_type": "markdown",
   "metadata": {},
   "source": [
    "## Baseline"
   ]
  },
  {
   "cell_type": "markdown",
   "metadata": {},
   "source": [
    "Let's take as **baseline case** the result as a function of the rating difference:\n",
    "\n",
    "If\n",
    "* the modulus difference is less than _mean difference_ points => draw;\n",
    "* else, the difference is negative => black wins\n",
    "* else => white wins"
   ]
  },
  {
   "cell_type": "code",
   "execution_count": 70,
   "metadata": {},
   "outputs": [
    {
     "data": {
      "text/plain": [
       "(19768, 1)"
      ]
     },
     "execution_count": 70,
     "metadata": {},
     "output_type": "execute_result"
    }
   ],
   "source": [
    "all_matches = pd.concat([chess_games.copy(), chess_games_invalid_duration.copy()])\n",
    "baseline = pd.DataFrame(index=all_matches.index)\n",
    "baseline['rating_difference'] = all_matches['rating_difference']\n",
    "baseline.shape"
   ]
  },
  {
   "cell_type": "code",
   "execution_count": 71,
   "metadata": {},
   "outputs": [
    {
     "data": {
      "text/plain": [
       "7.517300687980574"
      ]
     },
     "execution_count": 71,
     "metadata": {},
     "output_type": "execute_result"
    }
   ],
   "source": [
    "baseline['rating_difference'].mean()"
   ]
  },
  {
   "cell_type": "code",
   "execution_count": 72,
   "metadata": {},
   "outputs": [],
   "source": [
    "def get_base_winner(rating_diff):\n",
    "    if rating_diff < 7.5 and rating_diff > -7.5:\n",
    "        return 'draw'\n",
    "    elif rating_diff < 0:\n",
    "        return 'black'\n",
    "    else:\n",
    "        return 'white'"
   ]
  },
  {
   "cell_type": "code",
   "execution_count": 73,
   "metadata": {},
   "outputs": [
    {
     "data": {
      "text/plain": [
       "white    9587\n",
       "black    9111\n",
       "draw     1070\n",
       "Name: winner, dtype: int64"
      ]
     },
     "execution_count": 73,
     "metadata": {},
     "output_type": "execute_result"
    }
   ],
   "source": [
    "baseline['winner'] = baseline['rating_difference'].apply(get_base_winner)\n",
    "baseline['winner'].value_counts()"
   ]
  },
  {
   "cell_type": "markdown",
   "metadata": {},
   "source": [
    "Let's use the **weighted avg precison** and **weighted avg recall** as our modeling metrics."
   ]
  },
  {
   "cell_type": "code",
   "execution_count": 95,
   "metadata": {},
   "outputs": [],
   "source": [
    "from sklearn.metrics import precision_recall_fscore_support, classification_report"
   ]
  },
  {
   "cell_type": "code",
   "execution_count": 87,
   "metadata": {},
   "outputs": [
    {
     "name": "stdout",
     "output_type": "stream",
     "text": [
      "              precision    recall  f1-score   support\n",
      "\n",
      "       black     0.6074    0.6160    0.6117      8984\n",
      "        draw     0.0551    0.0630    0.0588       937\n",
      "       white     0.6446    0.6276    0.6360      9847\n",
      "\n",
      "    accuracy                         0.5956     19768\n",
      "   macro avg     0.4357    0.4355    0.4355     19768\n",
      "weighted avg     0.5998    0.5956    0.5976     19768\n",
      "\n"
     ]
    }
   ],
   "source": [
    "print(classification_report(all_matches['winner'], baseline['winner'], digits=4))"
   ]
  },
  {
   "cell_type": "markdown",
   "metadata": {},
   "source": [
    "p 0.5998, auc 0.5956 - Baseline"
   ]
  },
  {
   "cell_type": "code",
   "execution_count": 107,
   "metadata": {},
   "outputs": [
    {
     "data": {
      "text/plain": [
       "0.5997636996371806"
      ]
     },
     "execution_count": 107,
     "metadata": {},
     "output_type": "execute_result"
    }
   ],
   "source": [
    "results = precision_recall_fscore_support(all_matches['winner'], baseline['winner'])\n",
    "# [0] => black   [1] => draw   [2] => white\n",
    "np.average(results[0], weights=results[3])"
   ]
  },
  {
   "cell_type": "markdown",
   "metadata": {},
   "source": [
    "weighted_avg_precision = weighted_avg(precision, support)"
   ]
  },
  {
   "cell_type": "markdown",
   "metadata": {},
   "source": [
    "## Cross-validation"
   ]
  },
  {
   "cell_type": "markdown",
   "metadata": {},
   "source": [
    "As the dataset is small, let's divide 50% train / 50% validation in each fold."
   ]
  },
  {
   "cell_type": "code",
   "execution_count": 88,
   "metadata": {},
   "outputs": [],
   "source": [
    "from sklearn.ensemble import RandomForestClassifier\n",
    "from sklearn.model_selection import RepeatedKFold"
   ]
  },
  {
   "cell_type": "code",
   "execution_count": 89,
   "metadata": {},
   "outputs": [],
   "source": [
    "variables = ['victory_status_outoftime', 'victory_status_resign', 'victory_status_mate', 'victory_status_draw', 'white_rating', 'black_rating', 'minutes', 'incr_seconds', 'rating_difference']"
   ]
  },
  {
   "cell_type": "code",
   "execution_count": 111,
   "metadata": {},
   "outputs": [
    {
     "name": "stdout",
     "output_type": "stream",
     "text": [
      "Iteração 1\n",
      "=====================\n",
      "Precision: 0.44793568910312237\n",
      "AUC: 0.45022258195062725\n",
      "\n",
      "Iteração 2\n",
      "=====================\n",
      "Precision: 0.45374117085355253\n",
      "AUC: 0.4534601375961149\n",
      "\n",
      "Iteração 3\n",
      "=====================\n",
      "Precision: 0.45822478613723533\n",
      "AUC: 0.4602387697288547\n",
      "\n",
      "Iteração 4\n",
      "=====================\n",
      "Precision: 0.46045894442376223\n",
      "AUC: 0.4603399433427762\n",
      "\n",
      "Iteração 5\n",
      "=====================\n",
      "Precision: 0.4594056574107147\n",
      "AUC: 0.4611493322541481\n",
      "\n",
      "Iteração 6\n",
      "=====================\n",
      "Precision: 0.46394995078381573\n",
      "AUC: 0.46347632537434236\n",
      "\n",
      "Iteração 7\n",
      "=====================\n",
      "Precision: 0.461529786283928\n",
      "AUC: 0.4622622420072845\n",
      "\n",
      "Iteração 8\n",
      "=====================\n",
      "Precision: 0.4538732032079013\n",
      "AUC: 0.4554836098745447\n",
      "\n",
      "Iteração 9\n",
      "=====================\n",
      "Precision: 0.46225135842912896\n",
      "AUC: 0.4653986240388507\n",
      "\n",
      "Iteração 10\n",
      "=====================\n",
      "Precision: 0.4651835164804212\n",
      "AUC: 0.4646904087414002\n",
      "\n",
      "Iteração 11\n",
      "=====================\n",
      "Precision: 0.4582529657896207\n",
      "AUC: 0.4604411169566977\n",
      "\n",
      "Iteração 12\n",
      "=====================\n",
      "Precision: 0.45891960327545867\n",
      "AUC: 0.45922703358963984\n",
      "\n",
      "Iteração 13\n",
      "=====================\n",
      "Precision: 0.4519530382175343\n",
      "AUC: 0.4538648320518009\n",
      "\n",
      "Iteração 14\n",
      "=====================\n",
      "Precision: 0.4568424941460943\n",
      "AUC: 0.45781060299473897\n",
      "\n",
      "Iteração 15\n",
      "=====================\n",
      "Precision: 0.4617885255178004\n",
      "AUC: 0.46549979765277216\n",
      "\n",
      "Iteração 16\n",
      "=====================\n",
      "Precision: 0.4616838948389167\n",
      "AUC: 0.45993524888709025\n",
      "\n",
      "Iteração 17\n",
      "=====================\n",
      "Precision: 0.45464216774917554\n",
      "AUC: 0.45518008903278023\n",
      "\n",
      "Iteração 18\n",
      "=====================\n",
      "Precision: 0.4626994052237201\n",
      "AUC: 0.4639821934439498\n",
      "\n",
      "Iteração 19\n",
      "=====================\n",
      "Precision: 0.4675165971916138\n",
      "AUC: 0.46651153379198707\n",
      "\n",
      "Iteração 20\n",
      "=====================\n",
      "Precision: 0.46339100079426077\n",
      "AUC: 0.46651153379198707\n",
      "\n",
      "Average Precision: 0.4585875447685643\n",
      "Average AUC: 0.4596519627681101\n"
     ]
    }
   ],
   "source": [
    "avg_weighted_precisions = []\n",
    "avg_weighted_aucs = []\n",
    "kf = RepeatedKFold(n_splits=2, n_repeats=10, random_state=0)\n",
    "\n",
    "X = all_matches[variables]\n",
    "y = all_matches['winner']\n",
    "i = 0\n",
    "\n",
    "for lines_train, lines_valid in kf.split(all_matches):\n",
    "    X_train, y_train = X.iloc[lines_train], y.iloc[lines_train]\n",
    "    X_valid, y_valid = X.iloc[lines_valid], y.iloc[lines_valid]\n",
    "    i = i + 1\n",
    "    \n",
    "    model = RandomForestClassifier(n_estimators=100, n_jobs=-1, random_state=0)\n",
    "    model.fit(X_train, y_train)\n",
    "    \n",
    "    predicted = model.predict(X_valid)\n",
    "\n",
    "    results = precision_recall_fscore_support(y_train, predicted)\n",
    "    support = results[3]\n",
    "    prec = np.average(results[0], weights=support)\n",
    "    auc = np.average(results[1], weights=support)\n",
    "    print(\"Iteração {}\".format(i))\n",
    "    print(\"=====================\")\n",
    "    print(\"Precision: {}\".format(prec))\n",
    "    print(\"AUC: {}\".format(auc))\n",
    "    print()\n",
    "    \n",
    "    precisions.append(prec)\n",
    "    aucs.append(auc)\n",
    "\n",
    "print(\"Average Precision: {}\".format(np.mean(precisions)))\n",
    "print(\"Average AUC: {}\".format(np.mean(aucs)))"
   ]
  },
  {
   "cell_type": "code",
   "execution_count": 112,
   "metadata": {},
   "outputs": [
    {
     "data": {
      "text/plain": [
       "(array([3., 0., 4., 3., 1., 8., 5., 6., 4., 1.]),\n",
       " array([0.44793569, 0.44989378, 0.45185187, 0.45380996, 0.45576805,\n",
       "        0.45772614, 0.45968423, 0.46164232, 0.46360042, 0.46555851,\n",
       "        0.4675166 ]),\n",
       " <a list of 10 Patch objects>)"
      ]
     },
     "execution_count": 112,
     "metadata": {},
     "output_type": "execute_result"
    },
    {
     "data": {
      "image/png": "[encoded data removed]",
      "text/plain": [
       "<Figure size 432x288 with 1 Axes>"
      ]
     },
     "metadata": {
      "needs_background": "light"
     },
     "output_type": "display_data"
    }
   ],
   "source": [
    "pylab.hist(precisions)"
   ]
  },
  {
   "cell_type": "markdown",
   "metadata": {},
   "source": [
    "Accuracy is below the baseline."
   ]
  },
  {
   "cell_type": "markdown",
   "metadata": {},
   "source": [
    "p 0.5998, auc 0.5956 - Baseline\n",
    "\n",
    "p 0.4586, auc 0.4597 - First Model"
   ]
  }
 ],
 "metadata": {
  "kernelspec": {
   "display_name": "Python 3",
   "language": "python",
   "name": "python3"
  },
  "language_info": {
   "codemirror_mode": {
    "name": "ipython",
    "version": 3
   },
   "file_extension": ".py",
   "mimetype": "text/x-python",
   "name": "python",
   "nbconvert_exporter": "python",
   "pygments_lexer": "ipython3",
   "version": "3.7.4"
  }
 },
 "nbformat": 4,
 "nbformat_minor": 2
}
